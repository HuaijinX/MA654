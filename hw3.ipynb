{
 "cells": [
  {
   "cell_type": "markdown",
   "id": "03c85647",
   "metadata": {},
   "source": [
    "## 654 Assignment 3\n",
    "### Huaijin Xin"
   ]
  },
  {
   "cell_type": "markdown",
   "id": "50ff9be7",
   "metadata": {},
   "source": [
    "### Part I"
   ]
  },
  {
   "cell_type": "markdown",
   "id": "c78fa99b",
   "metadata": {},
   "source": [
    "#### A"
   ]
  },
  {
   "cell_type": "code",
   "execution_count": 1,
   "id": "3fa3db1c",
   "metadata": {},
   "outputs": [],
   "source": [
    "import pandas as pd"
   ]
  },
  {
   "cell_type": "code",
   "execution_count": 5,
   "id": "a34f0fe3",
   "metadata": {},
   "outputs": [],
   "source": [
    "bank_churn_df = pd.read_csv(\"/Users/xinhuaijin/Desktop/654 hw3/bankchurn.csv\")"
   ]
  },
  {
   "cell_type": "code",
   "execution_count": 6,
   "id": "85b96672",
   "metadata": {},
   "outputs": [
    {
     "data": {
      "text/html": [
       "<div>\n",
       "<style scoped>\n",
       "    .dataframe tbody tr th:only-of-type {\n",
       "        vertical-align: middle;\n",
       "    }\n",
       "\n",
       "    .dataframe tbody tr th {\n",
       "        vertical-align: top;\n",
       "    }\n",
       "\n",
       "    .dataframe thead th {\n",
       "        text-align: right;\n",
       "    }\n",
       "</style>\n",
       "<table border=\"1\" class=\"dataframe\">\n",
       "  <thead>\n",
       "    <tr style=\"text-align: right;\">\n",
       "      <th></th>\n",
       "      <th>RowNumber</th>\n",
       "      <th>CustomerId</th>\n",
       "      <th>Surname</th>\n",
       "      <th>CreditScore</th>\n",
       "      <th>Geography</th>\n",
       "      <th>Gender</th>\n",
       "      <th>Age</th>\n",
       "      <th>Tenure</th>\n",
       "      <th>Balance</th>\n",
       "      <th>NumOfProducts</th>\n",
       "      <th>HasCrCard</th>\n",
       "      <th>IsActiveMember</th>\n",
       "      <th>EstimatedSalary</th>\n",
       "      <th>Exited</th>\n",
       "    </tr>\n",
       "  </thead>\n",
       "  <tbody>\n",
       "    <tr>\n",
       "      <th>0</th>\n",
       "      <td>1</td>\n",
       "      <td>15634602</td>\n",
       "      <td>Hargrave</td>\n",
       "      <td>619</td>\n",
       "      <td>France</td>\n",
       "      <td>Female</td>\n",
       "      <td>42</td>\n",
       "      <td>2</td>\n",
       "      <td>0.00</td>\n",
       "      <td>1</td>\n",
       "      <td>1</td>\n",
       "      <td>1</td>\n",
       "      <td>101348.88</td>\n",
       "      <td>1</td>\n",
       "    </tr>\n",
       "    <tr>\n",
       "      <th>1</th>\n",
       "      <td>2</td>\n",
       "      <td>15647311</td>\n",
       "      <td>Hill</td>\n",
       "      <td>608</td>\n",
       "      <td>Spain</td>\n",
       "      <td>Female</td>\n",
       "      <td>41</td>\n",
       "      <td>1</td>\n",
       "      <td>83807.86</td>\n",
       "      <td>1</td>\n",
       "      <td>0</td>\n",
       "      <td>1</td>\n",
       "      <td>112542.58</td>\n",
       "      <td>0</td>\n",
       "    </tr>\n",
       "    <tr>\n",
       "      <th>2</th>\n",
       "      <td>3</td>\n",
       "      <td>15619304</td>\n",
       "      <td>Onio</td>\n",
       "      <td>502</td>\n",
       "      <td>France</td>\n",
       "      <td>Female</td>\n",
       "      <td>42</td>\n",
       "      <td>8</td>\n",
       "      <td>159660.80</td>\n",
       "      <td>3</td>\n",
       "      <td>1</td>\n",
       "      <td>0</td>\n",
       "      <td>113931.57</td>\n",
       "      <td>1</td>\n",
       "    </tr>\n",
       "    <tr>\n",
       "      <th>3</th>\n",
       "      <td>4</td>\n",
       "      <td>15701354</td>\n",
       "      <td>Boni</td>\n",
       "      <td>699</td>\n",
       "      <td>France</td>\n",
       "      <td>Female</td>\n",
       "      <td>39</td>\n",
       "      <td>1</td>\n",
       "      <td>0.00</td>\n",
       "      <td>2</td>\n",
       "      <td>0</td>\n",
       "      <td>0</td>\n",
       "      <td>93826.63</td>\n",
       "      <td>0</td>\n",
       "    </tr>\n",
       "    <tr>\n",
       "      <th>4</th>\n",
       "      <td>5</td>\n",
       "      <td>15737888</td>\n",
       "      <td>Mitchell</td>\n",
       "      <td>850</td>\n",
       "      <td>Spain</td>\n",
       "      <td>Female</td>\n",
       "      <td>43</td>\n",
       "      <td>2</td>\n",
       "      <td>125510.82</td>\n",
       "      <td>1</td>\n",
       "      <td>1</td>\n",
       "      <td>1</td>\n",
       "      <td>79084.10</td>\n",
       "      <td>0</td>\n",
       "    </tr>\n",
       "  </tbody>\n",
       "</table>\n",
       "</div>"
      ],
      "text/plain": [
       "   RowNumber  CustomerId   Surname  CreditScore Geography  Gender  Age  \\\n",
       "0          1    15634602  Hargrave          619    France  Female   42   \n",
       "1          2    15647311      Hill          608     Spain  Female   41   \n",
       "2          3    15619304      Onio          502    France  Female   42   \n",
       "3          4    15701354      Boni          699    France  Female   39   \n",
       "4          5    15737888  Mitchell          850     Spain  Female   43   \n",
       "\n",
       "   Tenure    Balance  NumOfProducts  HasCrCard  IsActiveMember  \\\n",
       "0       2       0.00              1          1               1   \n",
       "1       1   83807.86              1          0               1   \n",
       "2       8  159660.80              3          1               0   \n",
       "3       1       0.00              2          0               0   \n",
       "4       2  125510.82              1          1               1   \n",
       "\n",
       "   EstimatedSalary  Exited  \n",
       "0        101348.88       1  \n",
       "1        112542.58       0  \n",
       "2        113931.57       1  \n",
       "3         93826.63       0  \n",
       "4         79084.10       0  "
      ]
     },
     "execution_count": 6,
     "metadata": {},
     "output_type": "execute_result"
    }
   ],
   "source": [
    "bank_churn_df.head()"
   ]
  },
  {
   "cell_type": "markdown",
   "id": "5085df9c",
   "metadata": {},
   "source": [
    "#### B"
   ]
  },
  {
   "cell_type": "code",
   "execution_count": 7,
   "id": "b3ad2741",
   "metadata": {},
   "outputs": [],
   "source": [
    "categorical_vars = bank_churn_df.select_dtypes(include=['object', 'category']).columns.tolist()\n",
    "numerical_vars = bank_churn_df.select_dtypes(include=['int64', 'float64']).columns.tolist()"
   ]
  },
  {
   "cell_type": "code",
   "execution_count": 8,
   "id": "f4016e27",
   "metadata": {},
   "outputs": [
    {
     "name": "stdout",
     "output_type": "stream",
     "text": [
      "catigirical variables are ['Surname', 'Geography', 'Gender']\n"
     ]
    }
   ],
   "source": [
    "print(\"catigirical variables are\" , categorical_vars)"
   ]
  },
  {
   "cell_type": "code",
   "execution_count": 9,
   "id": "372957fa",
   "metadata": {},
   "outputs": [
    {
     "name": "stdout",
     "output_type": "stream",
     "text": [
      "numerical variables are ['RowNumber', 'CustomerId', 'CreditScore', 'Age', 'Tenure', 'Balance', 'NumOfProducts', 'HasCrCard', 'IsActiveMember', 'EstimatedSalary', 'Exited']\n"
     ]
    }
   ],
   "source": [
    "print(\"numerical variables are\", numerical_vars)"
   ]
  },
  {
   "cell_type": "markdown",
   "id": "1a74422f",
   "metadata": {},
   "source": [
    "#### C"
   ]
  },
  {
   "cell_type": "code",
   "execution_count": 10,
   "id": "960770c3",
   "metadata": {},
   "outputs": [
    {
     "data": {
      "text/plain": [
       "0    0.7963\n",
       "1    0.2037\n",
       "Name: Exited, dtype: float64"
      ]
     },
     "execution_count": 10,
     "metadata": {},
     "output_type": "execute_result"
    }
   ],
   "source": [
    "bank_churn_df['Exited'].value_counts(normalize=True)"
   ]
  },
  {
   "cell_type": "markdown",
   "id": "a395fbb9",
   "metadata": {},
   "source": [
    "a. 0 (Not Exited): 79.63% of the customers have not exited.\n",
    "   1 (Exited): 20.37% of the customers have exited.\n",
    "   \n",
    "b. Oversampling in machine learning refers to a technique used to adjust the class distribution of a dataset. It's particularly useful when dealing with imbalanced datasets, where one class is significantly underrepresented compared to others. In oversampling, additional data points are generated for the underrepresented class, either by duplicating existing data points or by synthesizing new ones (e.g., using methods like SMOTE - Synthetic Minority Over-sampling Technique). The goal is to create a balanced dataset, which can lead to better model performance, especially in terms of minority class prediction."
   ]
  },
  {
   "cell_type": "markdown",
   "id": "2bbc15d5",
   "metadata": {},
   "source": [
    "#### D"
   ]
  },
  {
   "cell_type": "markdown",
   "id": "bbcf42a1",
   "metadata": {},
   "source": [
    "a."
   ]
  },
  {
   "cell_type": "code",
   "execution_count": 11,
   "id": "ed714b58",
   "metadata": {},
   "outputs": [],
   "source": [
    "unique_counts = bank_churn_df[categorical_vars].nunique()"
   ]
  },
  {
   "cell_type": "code",
   "execution_count": 14,
   "id": "29bd8919",
   "metadata": {},
   "outputs": [
    {
     "data": {
      "text/plain": [
       "Surname      2932\n",
       "Geography       3\n",
       "Gender          2\n",
       "dtype: int64"
      ]
     },
     "execution_count": 14,
     "metadata": {},
     "output_type": "execute_result"
    }
   ],
   "source": [
    "unique_counts"
   ]
  },
  {
   "cell_type": "code",
   "execution_count": 16,
   "id": "ec5e0b22",
   "metadata": {},
   "outputs": [
    {
     "data": {
      "text/plain": [
       "10000"
      ]
     },
     "execution_count": 16,
     "metadata": {},
     "output_type": "execute_result"
    }
   ],
   "source": [
    "len(bank_churn_df)"
   ]
  },
  {
   "cell_type": "markdown",
   "id": "1a031f8d",
   "metadata": {},
   "source": [
    "There is no catagorical variable with all values unique"
   ]
  },
  {
   "cell_type": "markdown",
   "id": "94d2a87b",
   "metadata": {},
   "source": [
    "b. Yes Surname has 2932 unique values."
   ]
  },
  {
   "cell_type": "code",
   "execution_count": 17,
   "id": "924c511b",
   "metadata": {},
   "outputs": [],
   "source": [
    "#i\n",
    "bank_churn_df.drop('Surname', axis=1, inplace=True) "
   ]
  },
  {
   "cell_type": "markdown",
   "id": "8e656300",
   "metadata": {},
   "source": [
    "c. In machine learning, a categorical variable where each level is unique (i.e., each value is distinct and occurs only once) does not provide any predictive power. This is because the model cannot learn any generalizable pattern from unique values. Such variables often represent identifiers (like a customer ID) that are unique to each instance and do not contribute to the underlying patterns in the data."
   ]
  },
  {
   "cell_type": "markdown",
   "id": "19c8e3df",
   "metadata": {},
   "source": [
    "#### E"
   ]
  },
  {
   "cell_type": "code",
   "execution_count": 18,
   "id": "699a4aea",
   "metadata": {},
   "outputs": [
    {
     "data": {
      "text/plain": [
       "RowNumber          0\n",
       "CustomerId         0\n",
       "CreditScore        0\n",
       "Geography          0\n",
       "Gender             0\n",
       "Age                0\n",
       "Tenure             0\n",
       "Balance            0\n",
       "NumOfProducts      0\n",
       "HasCrCard          0\n",
       "IsActiveMember     0\n",
       "EstimatedSalary    0\n",
       "Exited             0\n",
       "dtype: int64"
      ]
     },
     "execution_count": 18,
     "metadata": {},
     "output_type": "execute_result"
    }
   ],
   "source": [
    "bank_churn_df.isnull().sum()"
   ]
  },
  {
   "cell_type": "markdown",
   "id": "fca0d5bb",
   "metadata": {},
   "source": [
    "There is no missing values"
   ]
  },
  {
   "cell_type": "markdown",
   "id": "9e2d10f4",
   "metadata": {},
   "source": [
    "#### F"
   ]
  },
  {
   "cell_type": "code",
   "execution_count": 19,
   "id": "e865509b",
   "metadata": {},
   "outputs": [
    {
     "data": {
      "text/html": [
       "<div>\n",
       "<style scoped>\n",
       "    .dataframe tbody tr th:only-of-type {\n",
       "        vertical-align: middle;\n",
       "    }\n",
       "\n",
       "    .dataframe tbody tr th {\n",
       "        vertical-align: top;\n",
       "    }\n",
       "\n",
       "    .dataframe thead th {\n",
       "        text-align: right;\n",
       "    }\n",
       "</style>\n",
       "<table border=\"1\" class=\"dataframe\">\n",
       "  <thead>\n",
       "    <tr style=\"text-align: right;\">\n",
       "      <th></th>\n",
       "      <th>RowNumber</th>\n",
       "      <th>CustomerId</th>\n",
       "      <th>CreditScore</th>\n",
       "      <th>Age</th>\n",
       "      <th>Tenure</th>\n",
       "      <th>Balance</th>\n",
       "      <th>NumOfProducts</th>\n",
       "      <th>HasCrCard</th>\n",
       "      <th>IsActiveMember</th>\n",
       "      <th>EstimatedSalary</th>\n",
       "      <th>Exited</th>\n",
       "    </tr>\n",
       "  </thead>\n",
       "  <tbody>\n",
       "    <tr>\n",
       "      <th>RowNumber</th>\n",
       "      <td>1.000000</td>\n",
       "      <td>0.004202</td>\n",
       "      <td>0.005840</td>\n",
       "      <td>0.000783</td>\n",
       "      <td>-0.006495</td>\n",
       "      <td>-0.009067</td>\n",
       "      <td>0.007246</td>\n",
       "      <td>0.000599</td>\n",
       "      <td>0.012044</td>\n",
       "      <td>-0.005988</td>\n",
       "      <td>-0.016571</td>\n",
       "    </tr>\n",
       "    <tr>\n",
       "      <th>CustomerId</th>\n",
       "      <td>0.004202</td>\n",
       "      <td>1.000000</td>\n",
       "      <td>0.005308</td>\n",
       "      <td>0.009497</td>\n",
       "      <td>-0.014883</td>\n",
       "      <td>-0.012419</td>\n",
       "      <td>0.016972</td>\n",
       "      <td>-0.014025</td>\n",
       "      <td>0.001665</td>\n",
       "      <td>0.015271</td>\n",
       "      <td>-0.006248</td>\n",
       "    </tr>\n",
       "    <tr>\n",
       "      <th>CreditScore</th>\n",
       "      <td>0.005840</td>\n",
       "      <td>0.005308</td>\n",
       "      <td>1.000000</td>\n",
       "      <td>-0.003965</td>\n",
       "      <td>0.000842</td>\n",
       "      <td>0.006268</td>\n",
       "      <td>0.012238</td>\n",
       "      <td>-0.005458</td>\n",
       "      <td>0.025651</td>\n",
       "      <td>-0.001384</td>\n",
       "      <td>-0.027094</td>\n",
       "    </tr>\n",
       "    <tr>\n",
       "      <th>Age</th>\n",
       "      <td>0.000783</td>\n",
       "      <td>0.009497</td>\n",
       "      <td>-0.003965</td>\n",
       "      <td>1.000000</td>\n",
       "      <td>-0.009997</td>\n",
       "      <td>0.028308</td>\n",
       "      <td>-0.030680</td>\n",
       "      <td>-0.011721</td>\n",
       "      <td>0.085472</td>\n",
       "      <td>-0.007201</td>\n",
       "      <td>0.285323</td>\n",
       "    </tr>\n",
       "    <tr>\n",
       "      <th>Tenure</th>\n",
       "      <td>-0.006495</td>\n",
       "      <td>-0.014883</td>\n",
       "      <td>0.000842</td>\n",
       "      <td>-0.009997</td>\n",
       "      <td>1.000000</td>\n",
       "      <td>-0.012254</td>\n",
       "      <td>0.013444</td>\n",
       "      <td>0.022583</td>\n",
       "      <td>-0.028362</td>\n",
       "      <td>0.007784</td>\n",
       "      <td>-0.014001</td>\n",
       "    </tr>\n",
       "    <tr>\n",
       "      <th>Balance</th>\n",
       "      <td>-0.009067</td>\n",
       "      <td>-0.012419</td>\n",
       "      <td>0.006268</td>\n",
       "      <td>0.028308</td>\n",
       "      <td>-0.012254</td>\n",
       "      <td>1.000000</td>\n",
       "      <td>-0.304180</td>\n",
       "      <td>-0.014858</td>\n",
       "      <td>-0.010084</td>\n",
       "      <td>0.012797</td>\n",
       "      <td>0.118533</td>\n",
       "    </tr>\n",
       "    <tr>\n",
       "      <th>NumOfProducts</th>\n",
       "      <td>0.007246</td>\n",
       "      <td>0.016972</td>\n",
       "      <td>0.012238</td>\n",
       "      <td>-0.030680</td>\n",
       "      <td>0.013444</td>\n",
       "      <td>-0.304180</td>\n",
       "      <td>1.000000</td>\n",
       "      <td>0.003183</td>\n",
       "      <td>0.009612</td>\n",
       "      <td>0.014204</td>\n",
       "      <td>-0.047820</td>\n",
       "    </tr>\n",
       "    <tr>\n",
       "      <th>HasCrCard</th>\n",
       "      <td>0.000599</td>\n",
       "      <td>-0.014025</td>\n",
       "      <td>-0.005458</td>\n",
       "      <td>-0.011721</td>\n",
       "      <td>0.022583</td>\n",
       "      <td>-0.014858</td>\n",
       "      <td>0.003183</td>\n",
       "      <td>1.000000</td>\n",
       "      <td>-0.011866</td>\n",
       "      <td>-0.009933</td>\n",
       "      <td>-0.007138</td>\n",
       "    </tr>\n",
       "    <tr>\n",
       "      <th>IsActiveMember</th>\n",
       "      <td>0.012044</td>\n",
       "      <td>0.001665</td>\n",
       "      <td>0.025651</td>\n",
       "      <td>0.085472</td>\n",
       "      <td>-0.028362</td>\n",
       "      <td>-0.010084</td>\n",
       "      <td>0.009612</td>\n",
       "      <td>-0.011866</td>\n",
       "      <td>1.000000</td>\n",
       "      <td>-0.011421</td>\n",
       "      <td>-0.156128</td>\n",
       "    </tr>\n",
       "    <tr>\n",
       "      <th>EstimatedSalary</th>\n",
       "      <td>-0.005988</td>\n",
       "      <td>0.015271</td>\n",
       "      <td>-0.001384</td>\n",
       "      <td>-0.007201</td>\n",
       "      <td>0.007784</td>\n",
       "      <td>0.012797</td>\n",
       "      <td>0.014204</td>\n",
       "      <td>-0.009933</td>\n",
       "      <td>-0.011421</td>\n",
       "      <td>1.000000</td>\n",
       "      <td>0.012097</td>\n",
       "    </tr>\n",
       "    <tr>\n",
       "      <th>Exited</th>\n",
       "      <td>-0.016571</td>\n",
       "      <td>-0.006248</td>\n",
       "      <td>-0.027094</td>\n",
       "      <td>0.285323</td>\n",
       "      <td>-0.014001</td>\n",
       "      <td>0.118533</td>\n",
       "      <td>-0.047820</td>\n",
       "      <td>-0.007138</td>\n",
       "      <td>-0.156128</td>\n",
       "      <td>0.012097</td>\n",
       "      <td>1.000000</td>\n",
       "    </tr>\n",
       "  </tbody>\n",
       "</table>\n",
       "</div>"
      ],
      "text/plain": [
       "                 RowNumber  CustomerId  CreditScore       Age    Tenure  \\\n",
       "RowNumber         1.000000    0.004202     0.005840  0.000783 -0.006495   \n",
       "CustomerId        0.004202    1.000000     0.005308  0.009497 -0.014883   \n",
       "CreditScore       0.005840    0.005308     1.000000 -0.003965  0.000842   \n",
       "Age               0.000783    0.009497    -0.003965  1.000000 -0.009997   \n",
       "Tenure           -0.006495   -0.014883     0.000842 -0.009997  1.000000   \n",
       "Balance          -0.009067   -0.012419     0.006268  0.028308 -0.012254   \n",
       "NumOfProducts     0.007246    0.016972     0.012238 -0.030680  0.013444   \n",
       "HasCrCard         0.000599   -0.014025    -0.005458 -0.011721  0.022583   \n",
       "IsActiveMember    0.012044    0.001665     0.025651  0.085472 -0.028362   \n",
       "EstimatedSalary  -0.005988    0.015271    -0.001384 -0.007201  0.007784   \n",
       "Exited           -0.016571   -0.006248    -0.027094  0.285323 -0.014001   \n",
       "\n",
       "                  Balance  NumOfProducts  HasCrCard  IsActiveMember  \\\n",
       "RowNumber       -0.009067       0.007246   0.000599        0.012044   \n",
       "CustomerId      -0.012419       0.016972  -0.014025        0.001665   \n",
       "CreditScore      0.006268       0.012238  -0.005458        0.025651   \n",
       "Age              0.028308      -0.030680  -0.011721        0.085472   \n",
       "Tenure          -0.012254       0.013444   0.022583       -0.028362   \n",
       "Balance          1.000000      -0.304180  -0.014858       -0.010084   \n",
       "NumOfProducts   -0.304180       1.000000   0.003183        0.009612   \n",
       "HasCrCard       -0.014858       0.003183   1.000000       -0.011866   \n",
       "IsActiveMember  -0.010084       0.009612  -0.011866        1.000000   \n",
       "EstimatedSalary  0.012797       0.014204  -0.009933       -0.011421   \n",
       "Exited           0.118533      -0.047820  -0.007138       -0.156128   \n",
       "\n",
       "                 EstimatedSalary    Exited  \n",
       "RowNumber              -0.005988 -0.016571  \n",
       "CustomerId              0.015271 -0.006248  \n",
       "CreditScore            -0.001384 -0.027094  \n",
       "Age                    -0.007201  0.285323  \n",
       "Tenure                  0.007784 -0.014001  \n",
       "Balance                 0.012797  0.118533  \n",
       "NumOfProducts           0.014204 -0.047820  \n",
       "HasCrCard              -0.009933 -0.007138  \n",
       "IsActiveMember         -0.011421 -0.156128  \n",
       "EstimatedSalary         1.000000  0.012097  \n",
       "Exited                  0.012097  1.000000  "
      ]
     },
     "execution_count": 19,
     "metadata": {},
     "output_type": "execute_result"
    }
   ],
   "source": [
    "correlation_matrix = bank_churn_df[numerical_vars].corr()\n",
    "\n",
    "correlation_matrix"
   ]
  },
  {
   "cell_type": "markdown",
   "id": "5bd68828",
   "metadata": {},
   "source": [
    "i. The correlation matrix shows that there are no extremely high correlations between any pair of variables that would indicate a serious problem with multicollinearity. The highest correlation observed is between Balance and NumOfProducts (-0.30), but this is not high enough to be concerning."
   ]
  },
  {
   "cell_type": "markdown",
   "id": "42427009",
   "metadata": {},
   "source": [
    "#### G"
   ]
  },
  {
   "cell_type": "code",
   "execution_count": 21,
   "id": "85fd27da",
   "metadata": {},
   "outputs": [],
   "source": [
    "categorical_vars = ['Geography', 'Gender']\n",
    "bank_churn_dummified = pd.get_dummies(bank_churn_df, columns=categorical_vars, drop_first=True)"
   ]
  },
  {
   "cell_type": "code",
   "execution_count": 22,
   "id": "cbfff23f",
   "metadata": {},
   "outputs": [
    {
     "data": {
      "text/html": [
       "<div>\n",
       "<style scoped>\n",
       "    .dataframe tbody tr th:only-of-type {\n",
       "        vertical-align: middle;\n",
       "    }\n",
       "\n",
       "    .dataframe tbody tr th {\n",
       "        vertical-align: top;\n",
       "    }\n",
       "\n",
       "    .dataframe thead th {\n",
       "        text-align: right;\n",
       "    }\n",
       "</style>\n",
       "<table border=\"1\" class=\"dataframe\">\n",
       "  <thead>\n",
       "    <tr style=\"text-align: right;\">\n",
       "      <th></th>\n",
       "      <th>RowNumber</th>\n",
       "      <th>CustomerId</th>\n",
       "      <th>CreditScore</th>\n",
       "      <th>Age</th>\n",
       "      <th>Tenure</th>\n",
       "      <th>Balance</th>\n",
       "      <th>NumOfProducts</th>\n",
       "      <th>HasCrCard</th>\n",
       "      <th>IsActiveMember</th>\n",
       "      <th>EstimatedSalary</th>\n",
       "      <th>Exited</th>\n",
       "      <th>Geography_Germany</th>\n",
       "      <th>Geography_Spain</th>\n",
       "      <th>Gender_Male</th>\n",
       "    </tr>\n",
       "  </thead>\n",
       "  <tbody>\n",
       "    <tr>\n",
       "      <th>0</th>\n",
       "      <td>1</td>\n",
       "      <td>15634602</td>\n",
       "      <td>619</td>\n",
       "      <td>42</td>\n",
       "      <td>2</td>\n",
       "      <td>0.00</td>\n",
       "      <td>1</td>\n",
       "      <td>1</td>\n",
       "      <td>1</td>\n",
       "      <td>101348.88</td>\n",
       "      <td>1</td>\n",
       "      <td>0</td>\n",
       "      <td>0</td>\n",
       "      <td>0</td>\n",
       "    </tr>\n",
       "    <tr>\n",
       "      <th>1</th>\n",
       "      <td>2</td>\n",
       "      <td>15647311</td>\n",
       "      <td>608</td>\n",
       "      <td>41</td>\n",
       "      <td>1</td>\n",
       "      <td>83807.86</td>\n",
       "      <td>1</td>\n",
       "      <td>0</td>\n",
       "      <td>1</td>\n",
       "      <td>112542.58</td>\n",
       "      <td>0</td>\n",
       "      <td>0</td>\n",
       "      <td>1</td>\n",
       "      <td>0</td>\n",
       "    </tr>\n",
       "    <tr>\n",
       "      <th>2</th>\n",
       "      <td>3</td>\n",
       "      <td>15619304</td>\n",
       "      <td>502</td>\n",
       "      <td>42</td>\n",
       "      <td>8</td>\n",
       "      <td>159660.80</td>\n",
       "      <td>3</td>\n",
       "      <td>1</td>\n",
       "      <td>0</td>\n",
       "      <td>113931.57</td>\n",
       "      <td>1</td>\n",
       "      <td>0</td>\n",
       "      <td>0</td>\n",
       "      <td>0</td>\n",
       "    </tr>\n",
       "    <tr>\n",
       "      <th>3</th>\n",
       "      <td>4</td>\n",
       "      <td>15701354</td>\n",
       "      <td>699</td>\n",
       "      <td>39</td>\n",
       "      <td>1</td>\n",
       "      <td>0.00</td>\n",
       "      <td>2</td>\n",
       "      <td>0</td>\n",
       "      <td>0</td>\n",
       "      <td>93826.63</td>\n",
       "      <td>0</td>\n",
       "      <td>0</td>\n",
       "      <td>0</td>\n",
       "      <td>0</td>\n",
       "    </tr>\n",
       "    <tr>\n",
       "      <th>4</th>\n",
       "      <td>5</td>\n",
       "      <td>15737888</td>\n",
       "      <td>850</td>\n",
       "      <td>43</td>\n",
       "      <td>2</td>\n",
       "      <td>125510.82</td>\n",
       "      <td>1</td>\n",
       "      <td>1</td>\n",
       "      <td>1</td>\n",
       "      <td>79084.10</td>\n",
       "      <td>0</td>\n",
       "      <td>0</td>\n",
       "      <td>1</td>\n",
       "      <td>0</td>\n",
       "    </tr>\n",
       "  </tbody>\n",
       "</table>\n",
       "</div>"
      ],
      "text/plain": [
       "   RowNumber  CustomerId  CreditScore  Age  Tenure    Balance  NumOfProducts  \\\n",
       "0          1    15634602          619   42       2       0.00              1   \n",
       "1          2    15647311          608   41       1   83807.86              1   \n",
       "2          3    15619304          502   42       8  159660.80              3   \n",
       "3          4    15701354          699   39       1       0.00              2   \n",
       "4          5    15737888          850   43       2  125510.82              1   \n",
       "\n",
       "   HasCrCard  IsActiveMember  EstimatedSalary  Exited  Geography_Germany  \\\n",
       "0          1               1        101348.88       1                  0   \n",
       "1          0               1        112542.58       0                  0   \n",
       "2          1               0        113931.57       1                  0   \n",
       "3          0               0         93826.63       0                  0   \n",
       "4          1               1         79084.10       0                  0   \n",
       "\n",
       "   Geography_Spain  Gender_Male  \n",
       "0                0            0  \n",
       "1                1            0  \n",
       "2                0            0  \n",
       "3                0            0  \n",
       "4                1            0  "
      ]
     },
     "execution_count": 22,
     "metadata": {},
     "output_type": "execute_result"
    }
   ],
   "source": [
    "bank_churn_dummified.head()"
   ]
  },
  {
   "cell_type": "markdown",
   "id": "9571f3cc",
   "metadata": {},
   "source": [
    "#### H"
   ]
  },
  {
   "cell_type": "code",
   "execution_count": 24,
   "id": "5dbe1e81",
   "metadata": {},
   "outputs": [
    {
     "data": {
      "text/plain": [
       "{'Training Set Size': 6000, 'Test Set Size': 4000}"
      ]
     },
     "execution_count": 24,
     "metadata": {},
     "output_type": "execute_result"
    }
   ],
   "source": [
    "from sklearn.model_selection import train_test_split\n",
    "\n",
    "# Task H: Creating a data partition\n",
    "X = bank_churn_dummified.drop(['Exited'], axis=1)\n",
    "y = bank_churn_dummified['Exited']\n",
    "\n",
    "# Splitting the data into training and test sets\n",
    "X_train, X_test, y_train, y_test = train_test_split(X, y, test_size=0.4, random_state=123)\n",
    "\n",
    "# Verifying the split\n",
    "train_test_split_summary = {\n",
    "    \"Training Set Size\": X_train.shape[0],\n",
    "    \"Test Set Size\": X_test.shape[0]\n",
    "}\n",
    "train_test_split_summary"
   ]
  },
  {
   "cell_type": "markdown",
   "id": "9e161cdf",
   "metadata": {},
   "source": [
    "This split adheres to the 60% training and 40% test set allocation, using a random state of 123."
   ]
  },
  {
   "cell_type": "markdown",
   "id": "3f6755e4",
   "metadata": {},
   "source": [
    "#### I"
   ]
  },
  {
   "cell_type": "code",
   "execution_count": 25,
   "id": "e2481343",
   "metadata": {},
   "outputs": [
    {
     "data": {
      "text/html": [
       "<div>\n",
       "<style scoped>\n",
       "    .dataframe tbody tr th:only-of-type {\n",
       "        vertical-align: middle;\n",
       "    }\n",
       "\n",
       "    .dataframe tbody tr th {\n",
       "        vertical-align: top;\n",
       "    }\n",
       "\n",
       "    .dataframe thead th {\n",
       "        text-align: right;\n",
       "    }\n",
       "</style>\n",
       "<table border=\"1\" class=\"dataframe\">\n",
       "  <thead>\n",
       "    <tr style=\"text-align: right;\">\n",
       "      <th></th>\n",
       "      <th>RowNumber</th>\n",
       "      <th>CustomerId</th>\n",
       "      <th>CreditScore</th>\n",
       "      <th>Age</th>\n",
       "      <th>Tenure</th>\n",
       "      <th>Balance</th>\n",
       "      <th>NumOfProducts</th>\n",
       "      <th>HasCrCard</th>\n",
       "      <th>IsActiveMember</th>\n",
       "      <th>EstimatedSalary</th>\n",
       "      <th>Geography_Germany</th>\n",
       "      <th>Geography_Spain</th>\n",
       "      <th>Gender_Male</th>\n",
       "    </tr>\n",
       "    <tr>\n",
       "      <th>Exited</th>\n",
       "      <th></th>\n",
       "      <th></th>\n",
       "      <th></th>\n",
       "      <th></th>\n",
       "      <th></th>\n",
       "      <th></th>\n",
       "      <th></th>\n",
       "      <th></th>\n",
       "      <th></th>\n",
       "      <th></th>\n",
       "      <th></th>\n",
       "      <th></th>\n",
       "      <th></th>\n",
       "    </tr>\n",
       "  </thead>\n",
       "  <tbody>\n",
       "    <tr>\n",
       "      <th>0</th>\n",
       "      <td>5024.694964</td>\n",
       "      <td>1.569117e+07</td>\n",
       "      <td>651.853196</td>\n",
       "      <td>37.408389</td>\n",
       "      <td>5.033279</td>\n",
       "      <td>72745.296779</td>\n",
       "      <td>1.544267</td>\n",
       "      <td>0.707146</td>\n",
       "      <td>0.554565</td>\n",
       "      <td>99738.391772</td>\n",
       "      <td>0.212859</td>\n",
       "      <td>0.259199</td>\n",
       "      <td>0.572523</td>\n",
       "    </tr>\n",
       "    <tr>\n",
       "      <th>1</th>\n",
       "      <td>4905.917526</td>\n",
       "      <td>1.569005e+07</td>\n",
       "      <td>645.351497</td>\n",
       "      <td>44.837997</td>\n",
       "      <td>4.932744</td>\n",
       "      <td>91108.539337</td>\n",
       "      <td>1.475209</td>\n",
       "      <td>0.699067</td>\n",
       "      <td>0.360825</td>\n",
       "      <td>101465.677531</td>\n",
       "      <td>0.399607</td>\n",
       "      <td>0.202749</td>\n",
       "      <td>0.440844</td>\n",
       "    </tr>\n",
       "  </tbody>\n",
       "</table>\n",
       "</div>"
      ],
      "text/plain": [
       "          RowNumber    CustomerId  CreditScore        Age    Tenure  \\\n",
       "Exited                                                                \n",
       "0       5024.694964  1.569117e+07   651.853196  37.408389  5.033279   \n",
       "1       4905.917526  1.569005e+07   645.351497  44.837997  4.932744   \n",
       "\n",
       "             Balance  NumOfProducts  HasCrCard  IsActiveMember  \\\n",
       "Exited                                                           \n",
       "0       72745.296779       1.544267   0.707146        0.554565   \n",
       "1       91108.539337       1.475209   0.699067        0.360825   \n",
       "\n",
       "        EstimatedSalary  Geography_Germany  Geography_Spain  Gender_Male  \n",
       "Exited                                                                    \n",
       "0          99738.391772           0.212859         0.259199     0.572523  \n",
       "1         101465.677531           0.399607         0.202749     0.440844  "
      ]
     },
     "execution_count": 25,
     "metadata": {},
     "output_type": "execute_result"
    }
   ],
   "source": [
    "grouped_means = bank_churn_dummified.groupby('Exited').mean()\n",
    "\n",
    "grouped_means"
   ]
  },
  {
   "cell_type": "markdown",
   "id": "4a3e3d6d",
   "metadata": {},
   "source": [
    "1.Age: Older customers are more likely to exit. This could be due to various life stage changes, such as retirement or changing financial needs.\n",
    "2.IsActiveMember: Less active members are more likely to exit, possibly indicating dissatisfaction with the bank's services or lack of engagement with its products.\n",
    "3.Geography_Germany: A higher proportion of customers from Germany exited. This may suggest regional differences in banking needs or satisfaction levels."
   ]
  },
  {
   "cell_type": "markdown",
   "id": "ad4a780d",
   "metadata": {},
   "source": [
    "### Iteration 1"
   ]
  },
  {
   "cell_type": "markdown",
   "id": "26a59eed",
   "metadata": {},
   "source": [
    "#### J"
   ]
  },
  {
   "cell_type": "code",
   "execution_count": 27,
   "id": "9ea71dd9",
   "metadata": {},
   "outputs": [
    {
     "name": "stdout",
     "output_type": "stream",
     "text": [
      "Optimization terminated successfully.\n",
      "         Current function value: 0.432368\n",
      "         Iterations 6\n"
     ]
    }
   ],
   "source": [
    "import statsmodels.api as sm\n",
    "# Preparing the independent variables (X) and dependent variable (y) for the model\n",
    "X_train_model = sm.add_constant(X_train)  # Adding a constant to the model\n",
    "y_train_model = y_train\n",
    "\n",
    "# Building the logistic regression model\n",
    "log_reg_model = sm.Logit(y_train_model, X_train_model).fit()\n"
   ]
  },
  {
   "cell_type": "markdown",
   "id": "af513c5f",
   "metadata": {},
   "source": [
    "#### H"
   ]
  },
  {
   "cell_type": "code",
   "execution_count": 28,
   "id": "a5de8d03",
   "metadata": {},
   "outputs": [
    {
     "data": {
      "text/html": [
       "<table class=\"simpletable\">\n",
       "<caption>Logit Regression Results</caption>\n",
       "<tr>\n",
       "  <th>Dep. Variable:</th>        <td>Exited</td>      <th>  No. Observations:  </th>   <td>  6000</td>  \n",
       "</tr>\n",
       "<tr>\n",
       "  <th>Model:</th>                 <td>Logit</td>      <th>  Df Residuals:      </th>   <td>  5986</td>  \n",
       "</tr>\n",
       "<tr>\n",
       "  <th>Method:</th>                 <td>MLE</td>       <th>  Df Model:          </th>   <td>    13</td>  \n",
       "</tr>\n",
       "<tr>\n",
       "  <th>Date:</th>            <td>Sun, 29 Oct 2023</td> <th>  Pseudo R-squ.:     </th>   <td>0.1510</td>  \n",
       "</tr>\n",
       "<tr>\n",
       "  <th>Time:</th>                <td>23:06:44</td>     <th>  Log-Likelihood:    </th>  <td> -2594.2</td> \n",
       "</tr>\n",
       "<tr>\n",
       "  <th>converged:</th>             <td>True</td>       <th>  LL-Null:           </th>  <td> -3055.7</td> \n",
       "</tr>\n",
       "<tr>\n",
       "  <th>Covariance Type:</th>     <td>nonrobust</td>    <th>  LLR p-value:       </th> <td>5.989e-189</td>\n",
       "</tr>\n",
       "</table>\n",
       "<table class=\"simpletable\">\n",
       "<tr>\n",
       "          <td></td>             <th>coef</th>     <th>std err</th>      <th>z</th>      <th>P>|z|</th>  <th>[0.025</th>    <th>0.975]</th>  \n",
       "</tr>\n",
       "<tr>\n",
       "  <th>const</th>             <td>    4.2259</td> <td>    7.613</td> <td>    0.555</td> <td> 0.579</td> <td>  -10.696</td> <td>   19.148</td>\n",
       "</tr>\n",
       "<tr>\n",
       "  <th>RowNumber</th>         <td>-9.793e-06</td> <td>  1.2e-05</td> <td>   -0.813</td> <td> 0.416</td> <td>-3.34e-05</td> <td> 1.38e-05</td>\n",
       "</tr>\n",
       "<tr>\n",
       "  <th>CustomerId</th>        <td>-4.566e-07</td> <td> 4.85e-07</td> <td>   -0.941</td> <td> 0.346</td> <td>-1.41e-06</td> <td> 4.94e-07</td>\n",
       "</tr>\n",
       "<tr>\n",
       "  <th>CreditScore</th>       <td>   -0.0012</td> <td>    0.000</td> <td>   -3.422</td> <td> 0.001</td> <td>   -0.002</td> <td>   -0.001</td>\n",
       "</tr>\n",
       "<tr>\n",
       "  <th>Age</th>               <td>    0.0694</td> <td>    0.003</td> <td>   21.471</td> <td> 0.000</td> <td>    0.063</td> <td>    0.076</td>\n",
       "</tr>\n",
       "<tr>\n",
       "  <th>Tenure</th>            <td>   -0.0177</td> <td>    0.012</td> <td>   -1.467</td> <td> 0.142</td> <td>   -0.041</td> <td>    0.006</td>\n",
       "</tr>\n",
       "<tr>\n",
       "  <th>Balance</th>           <td> 3.187e-06</td> <td> 6.58e-07</td> <td>    4.843</td> <td> 0.000</td> <td>  1.9e-06</td> <td> 4.48e-06</td>\n",
       "</tr>\n",
       "<tr>\n",
       "  <th>NumOfProducts</th>     <td>   -0.0614</td> <td>    0.060</td> <td>   -1.023</td> <td> 0.306</td> <td>   -0.179</td> <td>    0.056</td>\n",
       "</tr>\n",
       "<tr>\n",
       "  <th>HasCrCard</th>         <td>   -0.0530</td> <td>    0.076</td> <td>   -0.694</td> <td> 0.488</td> <td>   -0.203</td> <td>    0.097</td>\n",
       "</tr>\n",
       "<tr>\n",
       "  <th>IsActiveMember</th>    <td>   -1.0285</td> <td>    0.074</td> <td>  -13.992</td> <td> 0.000</td> <td>   -1.173</td> <td>   -0.884</td>\n",
       "</tr>\n",
       "<tr>\n",
       "  <th>EstimatedSalary</th>   <td> 2.446e-07</td> <td> 6.05e-07</td> <td>    0.404</td> <td> 0.686</td> <td>-9.41e-07</td> <td> 1.43e-06</td>\n",
       "</tr>\n",
       "<tr>\n",
       "  <th>Geography_Germany</th> <td>    0.8177</td> <td>    0.087</td> <td>    9.389</td> <td> 0.000</td> <td>    0.647</td> <td>    0.988</td>\n",
       "</tr>\n",
       "<tr>\n",
       "  <th>Geography_Spain</th>   <td>    0.0522</td> <td>    0.090</td> <td>    0.577</td> <td> 0.564</td> <td>   -0.125</td> <td>    0.229</td>\n",
       "</tr>\n",
       "<tr>\n",
       "  <th>Gender_Male</th>       <td>   -0.5097</td> <td>    0.070</td> <td>   -7.290</td> <td> 0.000</td> <td>   -0.647</td> <td>   -0.373</td>\n",
       "</tr>\n",
       "</table>"
      ],
      "text/latex": [
       "\\begin{center}\n",
       "\\begin{tabular}{lclc}\n",
       "\\toprule\n",
       "\\textbf{Dep. Variable:}     &      Exited      & \\textbf{  No. Observations:  } &     6000    \\\\\n",
       "\\textbf{Model:}             &      Logit       & \\textbf{  Df Residuals:      } &     5986    \\\\\n",
       "\\textbf{Method:}            &       MLE        & \\textbf{  Df Model:          } &       13    \\\\\n",
       "\\textbf{Date:}              & Sun, 29 Oct 2023 & \\textbf{  Pseudo R-squ.:     } &   0.1510    \\\\\n",
       "\\textbf{Time:}              &     23:06:44     & \\textbf{  Log-Likelihood:    } &   -2594.2   \\\\\n",
       "\\textbf{converged:}         &       True       & \\textbf{  LL-Null:           } &   -3055.7   \\\\\n",
       "\\textbf{Covariance Type:}   &    nonrobust     & \\textbf{  LLR p-value:       } & 5.989e-189  \\\\\n",
       "\\bottomrule\n",
       "\\end{tabular}\n",
       "\\begin{tabular}{lcccccc}\n",
       "                            & \\textbf{coef} & \\textbf{std err} & \\textbf{z} & \\textbf{P$> |$z$|$} & \\textbf{[0.025} & \\textbf{0.975]}  \\\\\n",
       "\\midrule\n",
       "\\textbf{const}              &       4.2259  &        7.613     &     0.555  &         0.579        &      -10.696    &       19.148     \\\\\n",
       "\\textbf{RowNumber}          &   -9.793e-06  &      1.2e-05     &    -0.813  &         0.416        &    -3.34e-05    &     1.38e-05     \\\\\n",
       "\\textbf{CustomerId}         &   -4.566e-07  &     4.85e-07     &    -0.941  &         0.346        &    -1.41e-06    &     4.94e-07     \\\\\n",
       "\\textbf{CreditScore}        &      -0.0012  &        0.000     &    -3.422  &         0.001        &       -0.002    &       -0.001     \\\\\n",
       "\\textbf{Age}                &       0.0694  &        0.003     &    21.471  &         0.000        &        0.063    &        0.076     \\\\\n",
       "\\textbf{Tenure}             &      -0.0177  &        0.012     &    -1.467  &         0.142        &       -0.041    &        0.006     \\\\\n",
       "\\textbf{Balance}            &    3.187e-06  &     6.58e-07     &     4.843  &         0.000        &      1.9e-06    &     4.48e-06     \\\\\n",
       "\\textbf{NumOfProducts}      &      -0.0614  &        0.060     &    -1.023  &         0.306        &       -0.179    &        0.056     \\\\\n",
       "\\textbf{HasCrCard}          &      -0.0530  &        0.076     &    -0.694  &         0.488        &       -0.203    &        0.097     \\\\\n",
       "\\textbf{IsActiveMember}     &      -1.0285  &        0.074     &   -13.992  &         0.000        &       -1.173    &       -0.884     \\\\\n",
       "\\textbf{EstimatedSalary}    &    2.446e-07  &     6.05e-07     &     0.404  &         0.686        &    -9.41e-07    &     1.43e-06     \\\\\n",
       "\\textbf{Geography\\_Germany} &       0.8177  &        0.087     &     9.389  &         0.000        &        0.647    &        0.988     \\\\\n",
       "\\textbf{Geography\\_Spain}   &       0.0522  &        0.090     &     0.577  &         0.564        &       -0.125    &        0.229     \\\\\n",
       "\\textbf{Gender\\_Male}       &      -0.5097  &        0.070     &    -7.290  &         0.000        &       -0.647    &       -0.373     \\\\\n",
       "\\bottomrule\n",
       "\\end{tabular}\n",
       "%\\caption{Logit Regression Results}\n",
       "\\end{center}"
      ],
      "text/plain": [
       "<class 'statsmodels.iolib.summary.Summary'>\n",
       "\"\"\"\n",
       "                           Logit Regression Results                           \n",
       "==============================================================================\n",
       "Dep. Variable:                 Exited   No. Observations:                 6000\n",
       "Model:                          Logit   Df Residuals:                     5986\n",
       "Method:                           MLE   Df Model:                           13\n",
       "Date:                Sun, 29 Oct 2023   Pseudo R-squ.:                  0.1510\n",
       "Time:                        23:06:44   Log-Likelihood:                -2594.2\n",
       "converged:                       True   LL-Null:                       -3055.7\n",
       "Covariance Type:            nonrobust   LLR p-value:                5.989e-189\n",
       "=====================================================================================\n",
       "                        coef    std err          z      P>|z|      [0.025      0.975]\n",
       "-------------------------------------------------------------------------------------\n",
       "const                 4.2259      7.613      0.555      0.579     -10.696      19.148\n",
       "RowNumber         -9.793e-06    1.2e-05     -0.813      0.416   -3.34e-05    1.38e-05\n",
       "CustomerId        -4.566e-07   4.85e-07     -0.941      0.346   -1.41e-06    4.94e-07\n",
       "CreditScore          -0.0012      0.000     -3.422      0.001      -0.002      -0.001\n",
       "Age                   0.0694      0.003     21.471      0.000       0.063       0.076\n",
       "Tenure               -0.0177      0.012     -1.467      0.142      -0.041       0.006\n",
       "Balance            3.187e-06   6.58e-07      4.843      0.000     1.9e-06    4.48e-06\n",
       "NumOfProducts        -0.0614      0.060     -1.023      0.306      -0.179       0.056\n",
       "HasCrCard            -0.0530      0.076     -0.694      0.488      -0.203       0.097\n",
       "IsActiveMember       -1.0285      0.074    -13.992      0.000      -1.173      -0.884\n",
       "EstimatedSalary    2.446e-07   6.05e-07      0.404      0.686   -9.41e-07    1.43e-06\n",
       "Geography_Germany     0.8177      0.087      9.389      0.000       0.647       0.988\n",
       "Geography_Spain       0.0522      0.090      0.577      0.564      -0.125       0.229\n",
       "Gender_Male          -0.5097      0.070     -7.290      0.000      -0.647      -0.373\n",
       "=====================================================================================\n",
       "\"\"\""
      ]
     },
     "execution_count": 28,
     "metadata": {},
     "output_type": "execute_result"
    }
   ],
   "source": [
    "log_reg_model.summary()"
   ]
  },
  {
   "cell_type": "code",
   "execution_count": null,
   "id": "5e587709",
   "metadata": {},
   "outputs": [],
   "source": [
    "a. RowNumber,CustomerId,Tenure,NumOfProducts,HasCrCard,EstimatedSalary\n",
    "shows high p-value.\n",
    "b.Geography_Spain shows high p-value."
   ]
  },
  {
   "cell_type": "markdown",
   "id": "d8692dbc",
   "metadata": {},
   "source": [
    "### Iteration 2"
   ]
  },
  {
   "cell_type": "markdown",
   "id": "307bb9b8",
   "metadata": {},
   "source": [
    "#### L"
   ]
  },
  {
   "cell_type": "code",
   "execution_count": 30,
   "id": "0cfd0e53",
   "metadata": {},
   "outputs": [
    {
     "name": "stdout",
     "output_type": "stream",
     "text": [
      "Optimization terminated successfully.\n",
      "         Current function value: 0.432850\n",
      "         Iterations 6\n"
     ]
    },
    {
     "data": {
      "text/html": [
       "<table class=\"simpletable\">\n",
       "<caption>Logit Regression Results</caption>\n",
       "<tr>\n",
       "  <th>Dep. Variable:</th>        <td>Exited</td>      <th>  No. Observations:  </th>   <td>  6000</td>  \n",
       "</tr>\n",
       "<tr>\n",
       "  <th>Model:</th>                 <td>Logit</td>      <th>  Df Residuals:      </th>   <td>  5993</td>  \n",
       "</tr>\n",
       "<tr>\n",
       "  <th>Method:</th>                 <td>MLE</td>       <th>  Df Model:          </th>   <td>     6</td>  \n",
       "</tr>\n",
       "<tr>\n",
       "  <th>Date:</th>            <td>Sun, 29 Oct 2023</td> <th>  Pseudo R-squ.:     </th>   <td>0.1501</td>  \n",
       "</tr>\n",
       "<tr>\n",
       "  <th>Time:</th>                <td>23:14:51</td>     <th>  Log-Likelihood:    </th>  <td> -2597.1</td> \n",
       "</tr>\n",
       "<tr>\n",
       "  <th>converged:</th>             <td>True</td>       <th>  LL-Null:           </th>  <td> -3055.7</td> \n",
       "</tr>\n",
       "<tr>\n",
       "  <th>Covariance Type:</th>     <td>nonrobust</td>    <th>  LLR p-value:       </th> <td>7.204e-195</td>\n",
       "</tr>\n",
       "</table>\n",
       "<table class=\"simpletable\">\n",
       "<tr>\n",
       "          <td></td>             <th>coef</th>     <th>std err</th>      <th>z</th>      <th>P>|z|</th>  <th>[0.025</th>    <th>0.975]</th>  \n",
       "</tr>\n",
       "<tr>\n",
       "  <th>const</th>             <td>   -3.1705</td> <td>    0.272</td> <td>  -11.637</td> <td> 0.000</td> <td>   -3.704</td> <td>   -2.636</td>\n",
       "</tr>\n",
       "<tr>\n",
       "  <th>CreditScore</th>       <td>   -0.0012</td> <td>    0.000</td> <td>   -3.447</td> <td> 0.001</td> <td>   -0.002</td> <td>   -0.001</td>\n",
       "</tr>\n",
       "<tr>\n",
       "  <th>Age</th>               <td>    0.0694</td> <td>    0.003</td> <td>   21.500</td> <td> 0.000</td> <td>    0.063</td> <td>    0.076</td>\n",
       "</tr>\n",
       "<tr>\n",
       "  <th>Balance</th>           <td> 3.405e-06</td> <td> 6.33e-07</td> <td>    5.378</td> <td> 0.000</td> <td> 2.16e-06</td> <td> 4.65e-06</td>\n",
       "</tr>\n",
       "<tr>\n",
       "  <th>IsActiveMember</th>    <td>   -1.0254</td> <td>    0.073</td> <td>  -13.982</td> <td> 0.000</td> <td>   -1.169</td> <td>   -0.882</td>\n",
       "</tr>\n",
       "<tr>\n",
       "  <th>Geography_Germany</th> <td>    0.7834</td> <td>    0.081</td> <td>    9.721</td> <td> 0.000</td> <td>    0.625</td> <td>    0.941</td>\n",
       "</tr>\n",
       "<tr>\n",
       "  <th>Gender_Male</th>       <td>   -0.5104</td> <td>    0.070</td> <td>   -7.307</td> <td> 0.000</td> <td>   -0.647</td> <td>   -0.373</td>\n",
       "</tr>\n",
       "</table>"
      ],
      "text/latex": [
       "\\begin{center}\n",
       "\\begin{tabular}{lclc}\n",
       "\\toprule\n",
       "\\textbf{Dep. Variable:}     &      Exited      & \\textbf{  No. Observations:  } &     6000    \\\\\n",
       "\\textbf{Model:}             &      Logit       & \\textbf{  Df Residuals:      } &     5993    \\\\\n",
       "\\textbf{Method:}            &       MLE        & \\textbf{  Df Model:          } &        6    \\\\\n",
       "\\textbf{Date:}              & Sun, 29 Oct 2023 & \\textbf{  Pseudo R-squ.:     } &   0.1501    \\\\\n",
       "\\textbf{Time:}              &     23:14:51     & \\textbf{  Log-Likelihood:    } &   -2597.1   \\\\\n",
       "\\textbf{converged:}         &       True       & \\textbf{  LL-Null:           } &   -3055.7   \\\\\n",
       "\\textbf{Covariance Type:}   &    nonrobust     & \\textbf{  LLR p-value:       } & 7.204e-195  \\\\\n",
       "\\bottomrule\n",
       "\\end{tabular}\n",
       "\\begin{tabular}{lcccccc}\n",
       "                            & \\textbf{coef} & \\textbf{std err} & \\textbf{z} & \\textbf{P$> |$z$|$} & \\textbf{[0.025} & \\textbf{0.975]}  \\\\\n",
       "\\midrule\n",
       "\\textbf{const}              &      -3.1705  &        0.272     &   -11.637  &         0.000        &       -3.704    &       -2.636     \\\\\n",
       "\\textbf{CreditScore}        &      -0.0012  &        0.000     &    -3.447  &         0.001        &       -0.002    &       -0.001     \\\\\n",
       "\\textbf{Age}                &       0.0694  &        0.003     &    21.500  &         0.000        &        0.063    &        0.076     \\\\\n",
       "\\textbf{Balance}            &    3.405e-06  &     6.33e-07     &     5.378  &         0.000        &     2.16e-06    &     4.65e-06     \\\\\n",
       "\\textbf{IsActiveMember}     &      -1.0254  &        0.073     &   -13.982  &         0.000        &       -1.169    &       -0.882     \\\\\n",
       "\\textbf{Geography\\_Germany} &       0.7834  &        0.081     &     9.721  &         0.000        &        0.625    &        0.941     \\\\\n",
       "\\textbf{Gender\\_Male}       &      -0.5104  &        0.070     &    -7.307  &         0.000        &       -0.647    &       -0.373     \\\\\n",
       "\\bottomrule\n",
       "\\end{tabular}\n",
       "%\\caption{Logit Regression Results}\n",
       "\\end{center}"
      ],
      "text/plain": [
       "<class 'statsmodels.iolib.summary.Summary'>\n",
       "\"\"\"\n",
       "                           Logit Regression Results                           \n",
       "==============================================================================\n",
       "Dep. Variable:                 Exited   No. Observations:                 6000\n",
       "Model:                          Logit   Df Residuals:                     5993\n",
       "Method:                           MLE   Df Model:                            6\n",
       "Date:                Sun, 29 Oct 2023   Pseudo R-squ.:                  0.1501\n",
       "Time:                        23:14:51   Log-Likelihood:                -2597.1\n",
       "converged:                       True   LL-Null:                       -3055.7\n",
       "Covariance Type:            nonrobust   LLR p-value:                7.204e-195\n",
       "=====================================================================================\n",
       "                        coef    std err          z      P>|z|      [0.025      0.975]\n",
       "-------------------------------------------------------------------------------------\n",
       "const                -3.1705      0.272    -11.637      0.000      -3.704      -2.636\n",
       "CreditScore          -0.0012      0.000     -3.447      0.001      -0.002      -0.001\n",
       "Age                   0.0694      0.003     21.500      0.000       0.063       0.076\n",
       "Balance            3.405e-06   6.33e-07      5.378      0.000    2.16e-06    4.65e-06\n",
       "IsActiveMember       -1.0254      0.073    -13.982      0.000      -1.169      -0.882\n",
       "Geography_Germany     0.7834      0.081      9.721      0.000       0.625       0.941\n",
       "Gender_Male          -0.5104      0.070     -7.307      0.000      -0.647      -0.373\n",
       "=====================================================================================\n",
       "\"\"\""
      ]
     },
     "execution_count": 30,
     "metadata": {},
     "output_type": "execute_result"
    }
   ],
   "source": [
    "variables_to_drop = ['RowNumber', 'CustomerId', 'Tenure', 'NumOfProducts', \n",
    "                     'HasCrCard', 'EstimatedSalary', 'Geography_Spain']\n",
    "X_train_model_reduced = X_train_model.drop(variables_to_drop, axis=1)\n",
    "log_reg_model_reduced = sm.Logit(y_train, X_train_model_reduced).fit()\n",
    "log_reg_model_summary_reduced = log_reg_model_reduced.summary()\n",
    "log_reg_model_summary_reduced"
   ]
  },
  {
   "cell_type": "markdown",
   "id": "2d50970c",
   "metadata": {},
   "source": [
    "none of variables have high p-value"
   ]
  },
  {
   "cell_type": "markdown",
   "id": "2bb8aebe",
   "metadata": {},
   "source": [
    "#### M\n",
    "\n",
    "Since the reduced logistic regression model from Iteration #2 had no variables with high p-values, we will keep this model and proceed to build a similar model using scikit-learn."
   ]
  },
  {
   "cell_type": "markdown",
   "id": "831d7c47",
   "metadata": {},
   "source": [
    "#### N"
   ]
  },
  {
   "cell_type": "code",
   "execution_count": 41,
   "id": "386ca9e1",
   "metadata": {},
   "outputs": [
    {
     "data": {
      "text/html": [
       "<style>#sk-container-id-3 {color: black;}#sk-container-id-3 pre{padding: 0;}#sk-container-id-3 div.sk-toggleable {background-color: white;}#sk-container-id-3 label.sk-toggleable__label {cursor: pointer;display: block;width: 100%;margin-bottom: 0;padding: 0.3em;box-sizing: border-box;text-align: center;}#sk-container-id-3 label.sk-toggleable__label-arrow:before {content: \"▸\";float: left;margin-right: 0.25em;color: #696969;}#sk-container-id-3 label.sk-toggleable__label-arrow:hover:before {color: black;}#sk-container-id-3 div.sk-estimator:hover label.sk-toggleable__label-arrow:before {color: black;}#sk-container-id-3 div.sk-toggleable__content {max-height: 0;max-width: 0;overflow: hidden;text-align: left;background-color: #f0f8ff;}#sk-container-id-3 div.sk-toggleable__content pre {margin: 0.2em;color: black;border-radius: 0.25em;background-color: #f0f8ff;}#sk-container-id-3 input.sk-toggleable__control:checked~div.sk-toggleable__content {max-height: 200px;max-width: 100%;overflow: auto;}#sk-container-id-3 input.sk-toggleable__control:checked~label.sk-toggleable__label-arrow:before {content: \"▾\";}#sk-container-id-3 div.sk-estimator input.sk-toggleable__control:checked~label.sk-toggleable__label {background-color: #d4ebff;}#sk-container-id-3 div.sk-label input.sk-toggleable__control:checked~label.sk-toggleable__label {background-color: #d4ebff;}#sk-container-id-3 input.sk-hidden--visually {border: 0;clip: rect(1px 1px 1px 1px);clip: rect(1px, 1px, 1px, 1px);height: 1px;margin: -1px;overflow: hidden;padding: 0;position: absolute;width: 1px;}#sk-container-id-3 div.sk-estimator {font-family: monospace;background-color: #f0f8ff;border: 1px dotted black;border-radius: 0.25em;box-sizing: border-box;margin-bottom: 0.5em;}#sk-container-id-3 div.sk-estimator:hover {background-color: #d4ebff;}#sk-container-id-3 div.sk-parallel-item::after {content: \"\";width: 100%;border-bottom: 1px solid gray;flex-grow: 1;}#sk-container-id-3 div.sk-label:hover label.sk-toggleable__label {background-color: #d4ebff;}#sk-container-id-3 div.sk-serial::before {content: \"\";position: absolute;border-left: 1px solid gray;box-sizing: border-box;top: 0;bottom: 0;left: 50%;z-index: 0;}#sk-container-id-3 div.sk-serial {display: flex;flex-direction: column;align-items: center;background-color: white;padding-right: 0.2em;padding-left: 0.2em;position: relative;}#sk-container-id-3 div.sk-item {position: relative;z-index: 1;}#sk-container-id-3 div.sk-parallel {display: flex;align-items: stretch;justify-content: center;background-color: white;position: relative;}#sk-container-id-3 div.sk-item::before, #sk-container-id-3 div.sk-parallel-item::before {content: \"\";position: absolute;border-left: 1px solid gray;box-sizing: border-box;top: 0;bottom: 0;left: 50%;z-index: -1;}#sk-container-id-3 div.sk-parallel-item {display: flex;flex-direction: column;z-index: 1;position: relative;background-color: white;}#sk-container-id-3 div.sk-parallel-item:first-child::after {align-self: flex-end;width: 50%;}#sk-container-id-3 div.sk-parallel-item:last-child::after {align-self: flex-start;width: 50%;}#sk-container-id-3 div.sk-parallel-item:only-child::after {width: 0;}#sk-container-id-3 div.sk-dashed-wrapped {border: 1px dashed gray;margin: 0 0.4em 0.5em 0.4em;box-sizing: border-box;padding-bottom: 0.4em;background-color: white;}#sk-container-id-3 div.sk-label label {font-family: monospace;font-weight: bold;display: inline-block;line-height: 1.2em;}#sk-container-id-3 div.sk-label-container {text-align: center;}#sk-container-id-3 div.sk-container {/* jupyter's `normalize.less` sets `[hidden] { display: none; }` but bootstrap.min.css set `[hidden] { display: none !important; }` so we also need the `!important` here to be able to override the default hidden behavior on the sphinx rendered scikit-learn.org. See: https://github.com/scikit-learn/scikit-learn/issues/21755 */display: inline-block !important;position: relative;}#sk-container-id-3 div.sk-text-repr-fallback {display: none;}</style><div id=\"sk-container-id-3\" class=\"sk-top-container\"><div class=\"sk-text-repr-fallback\"><pre>LogisticRegression()</pre><b>In a Jupyter environment, please rerun this cell to show the HTML representation or trust the notebook. <br />On GitHub, the HTML representation is unable to render, please try loading this page with nbviewer.org.</b></div><div class=\"sk-container\" hidden><div class=\"sk-item\"><div class=\"sk-estimator sk-toggleable\"><input class=\"sk-toggleable__control sk-hidden--visually\" id=\"sk-estimator-id-3\" type=\"checkbox\" checked><label for=\"sk-estimator-id-3\" class=\"sk-toggleable__label sk-toggleable__label-arrow\">LogisticRegression</label><div class=\"sk-toggleable__content\"><pre>LogisticRegression()</pre></div></div></div></div></div>"
      ],
      "text/plain": [
       "LogisticRegression()"
      ]
     },
     "execution_count": 41,
     "metadata": {},
     "output_type": "execute_result"
    }
   ],
   "source": [
    "from sklearn.metrics import accuracy_score, recall_score, precision_score, balanced_accuracy_score\n",
    "\n",
    "# Preparing the data (excluding the variables identified for exclusion)\n",
    "variables_to_exclude = ['RowNumber', 'CustomerId', 'Tenure', 'NumOfProducts', \n",
    "                        'HasCrCard', 'EstimatedSalary']\n",
    "X = bank_churn_df.drop(variables_to_exclude + ['Exited'], axis=1)\n",
    "y = bank_churn_df['Exited']\n",
    "\n",
    "# Dummifying the categorical variables\n",
    "categorical_vars = ['Geography', 'Gender']\n",
    "X_dummified = pd.get_dummies(X, columns=categorical_vars, drop_first=True)\n",
    "\n",
    "# Splitting the data into training and test sets\n",
    "X_train, X_test, y_train, y_test = train_test_split(X_dummified, y, test_size=0.4, random_state=123)\n",
    "\n",
    "# Building the logistic regression model using scikit-learn\n",
    "log_reg_sklearn = LogisticRegression()\n",
    "log_reg_sklearn.fit(X_train, y_train)"
   ]
  },
  {
   "cell_type": "code",
   "execution_count": 42,
   "id": "a45c0048",
   "metadata": {},
   "outputs": [],
   "source": [
    "y_pred = log_reg_sklearn.predict(X_test)"
   ]
  },
  {
   "cell_type": "markdown",
   "id": "4219b8f5",
   "metadata": {},
   "source": [
    "#### O"
   ]
  },
  {
   "cell_type": "code",
   "execution_count": 45,
   "id": "009ea980",
   "metadata": {
    "scrolled": true
   },
   "outputs": [
    {
     "name": "stdout",
     "output_type": "stream",
     "text": [
      "[[3122   80]\n",
      " [ 753   45]]\n"
     ]
    }
   ],
   "source": [
    "from sklearn.metrics import confusion_matrix\n",
    "conf_matrix = confusion_matrix(y_test, y_pred)\n",
    "print(conf_matrix)"
   ]
  },
  {
   "cell_type": "code",
   "execution_count": 48,
   "id": "96064d89",
   "metadata": {},
   "outputs": [
    {
     "name": "stdout",
     "output_type": "stream",
     "text": [
      "accuracy is 0.79175 ,sensitivity is 0.05639097744360902 ,specificity is 0.9750156152404748 precision is 0.36 balanced accuracy is 0.5157032963420419\n"
     ]
    }
   ],
   "source": [
    "accuracy = accuracy_score(y_test, y_pred)\n",
    "sensitivity = recall_score(y_test, y_pred)  # Sensitivity is the same as recall\n",
    "specificity = recall_score(y_test, y_pred, pos_label=0)\n",
    "precision = precision_score(y_test, y_pred)\n",
    "balanced_accuracy = balanced_accuracy_score(y_test, y_pred)\n",
    "print(\"accuracy is\",accuracy,\",sensitivity is\",sensitivity,\",specificity is\",specificity,\"precision is\",precision,\n",
    "      \"balanced accuracy is\",balanced_accuracy)"
   ]
  },
  {
   "cell_type": "markdown",
   "id": "2a06d543",
   "metadata": {},
   "source": [
    "#### P"
   ]
  },
  {
   "cell_type": "code",
   "execution_count": 49,
   "id": "200142dc",
   "metadata": {},
   "outputs": [
    {
     "data": {
      "text/plain": [
       "(0.7891666666666667, 0.79175)"
      ]
     },
     "execution_count": 49,
     "metadata": {},
     "output_type": "execute_result"
    }
   ],
   "source": [
    "# Calculating the model's accuracy on the training set\n",
    "y_train_pred = log_reg_sklearn.predict(X_train)\n",
    "accuracy_train = accuracy_score(y_train, y_train_pred)\n",
    "\n",
    "# Calculating the model's accuracy on the test set (reusing previously calculated accuracy)\n",
    "accuracy_test = accuracy\n",
    "\n",
    "# Displaying the accuracies for comparison\n",
    "accuracy_train, accuracy_test"
   ]
  },
  {
   "cell_type": "markdown",
   "id": "066769aa",
   "metadata": {},
   "source": [
    "a. Purpose of Comparing Accuracy on Training vs. Test Set\n",
    "\n",
    "Detecting Overfitting: This comparison helps determine if the model is overfitting. Overfitting occurs when a model performs well on the training data but poorly on unseen data (like the test set).\n",
    "\n",
    "Generalization: It gives insight into how well the model generalizes to new, unseen data.\n",
    "\n",
    "Model Robustness: Consistent performance across both sets indicates a robust model.\n"
   ]
  },
  {
   "cell_type": "markdown",
   "id": "47026928",
   "metadata": {},
   "source": [
    "b. Insights from the Comparison for This Model\n",
    "\n",
    "Consistency: The model's accuracy is quite consistent between the training and test sets, with only a slight increase in the test set.\n",
    "\n",
    "Generalization: The close accuracies suggest that the model generalizes well to new data and is not overfitting.\n",
    "\n",
    "Robustness: This consistent performance implies a robust model in terms of prediction accuracy."
   ]
  },
  {
   "cell_type": "markdown",
   "id": "fca3788a",
   "metadata": {},
   "source": [
    "#### Q\n",
    "Let's define a customer with the following characteristics:\n",
    "\n",
    "CreditScore: 650\n",
    "Age: 40\n",
    "Balance: 50,000\n",
    "IsActiveMember: 1 (Active)\n",
    "Geography_Germany: 0 (Not in Germany)\n",
    "Geography_Spain: 0 (Not in Spain)\n",
    "Gender_Male: 1 (Male)"
   ]
  },
  {
   "cell_type": "code",
   "execution_count": 50,
   "id": "ebecc93b",
   "metadata": {},
   "outputs": [
    {
     "data": {
      "text/plain": [
       "(0, 0.18287726666577991)"
      ]
     },
     "execution_count": 50,
     "metadata": {},
     "output_type": "execute_result"
    }
   ],
   "source": [
    "customer_data = {\n",
    "    'CreditScore': [650],\n",
    "    'Age': [40],\n",
    "    'Balance': [50000],\n",
    "    'IsActiveMember': [1],\n",
    "    'Geography_Germany': [0],\n",
    "    'Geography_Spain': [0],\n",
    "    'Gender_Male': [1]\n",
    "}\n",
    "customer_df = pd.DataFrame(customer_data)\n",
    "\n",
    "# Using the model to predict the customer's status (stay or leave)\n",
    "customer_pred = log_reg_sklearn.predict(customer_df)\n",
    "customer_pred_proba = log_reg_sklearn.predict_proba(customer_df)\n",
    "\n",
    "# Extracting the probability of leaving (class 1)\n",
    "probability_leaving = customer_pred_proba[:, 1]\n",
    "\n",
    "customer_pred[0], probability_leaving[0]"
   ]
  },
  {
   "cell_type": "markdown",
   "id": "72bf69bc",
   "metadata": {},
   "source": [
    "Model Prediction: The customer will stay (prediction is 0, indicating they are not likely to exit).\n",
    "\n",
    "Probability of Leaving: According to the model, there is an approximately 18.29% probability that this customer will leave. \n",
    "\n",
    "This indicates that, based on the model and the data provided, the customer is more likely to remain with the bank rather than exit."
   ]
  },
  {
   "cell_type": "markdown",
   "id": "8f99ac08",
   "metadata": {},
   "source": [
    "#### R"
   ]
  },
  {
   "cell_type": "markdown",
   "id": "8a827bdf",
   "metadata": {},
   "source": [
    "When using a logistic regression model (or any statistical model), it's crucial to use values within the range of the dataset used to build the model for the following reasons:\n",
    "\n",
    "Model Reliability: The model is reliable only within the range of data it has been trained on. Extrapolating beyond this range can lead to unreliable and untrustworthy predictions.\n",
    "\n",
    "Assumption of Linearity: Logistic regression assumes a linear relationship between predictors and the log-odds of the dependent variable. This assumption may not hold true outside the observed data range.\n",
    "\n",
    "Lack of Data Support: Predictions made outside the range of the training data are not supported by empirical evidence, as the model hasn't learned the patterns or behaviors in those areas."
   ]
  },
  {
   "cell_type": "code",
   "execution_count": 51,
   "id": "7b00ac1b",
   "metadata": {},
   "outputs": [
    {
     "data": {
      "text/plain": [
       "(1, 0.8065886044003574)"
      ]
     },
     "execution_count": 51,
     "metadata": {},
     "output_type": "execute_result"
    }
   ],
   "source": [
    "# Creating a DataFrame for an out-of-range customer\n",
    "out_of_range_customer_data = {\n",
    "    'CreditScore': [900],\n",
    "    'Age': [95],\n",
    "    'Balance': [500000],\n",
    "    'IsActiveMember': [1],\n",
    "    'Geography_Germany': [0],\n",
    "    'Geography_Spain': [0],\n",
    "    'Gender_Male': [1]\n",
    "}\n",
    "out_of_range_customer_df = pd.DataFrame(out_of_range_customer_data)\n",
    "\n",
    "# Using the model to predict the status of the out-of-range customer\n",
    "out_of_range_customer_pred = log_reg_sklearn.predict(out_of_range_customer_df)\n",
    "out_of_range_customer_pred_proba = log_reg_sklearn.predict_proba(out_of_range_customer_df)\n",
    "\n",
    "# Extracting the probability of leaving (class 1)\n",
    "out_of_range_probability_leaving = out_of_range_customer_pred_proba[:, 1]\n",
    "\n",
    "out_of_range_customer_pred[0], out_of_range_probability_leaving[0]\n"
   ]
  },
  {
   "cell_type": "markdown",
   "id": "40ab418a",
   "metadata": {},
   "source": [
    "High Probability of Leaving: Despite the customer having characteristics that might typically be associated with lower churn risk (e.g., high credit score, active membership), the extreme values in age and balance have led to a high probability of exiting. This could be due to the model extrapolating based on trends it learned within the normal data range, which might not accurately reflect behavior at these extreme values.\n",
    "\n",
    "Model Limitations: This result highlights a limitation of the logistic regression model (and many predictive models) in handling data points that are significantly different from those it was trained on. It emphasizes the importance of using prediction values within the range of the training dataset to maintain model reliability and accuracy."
   ]
  },
  {
   "cell_type": "markdown",
   "id": "beff1db9",
   "metadata": {},
   "source": [
    "### Part II"
   ]
  },
  {
   "cell_type": "markdown",
   "id": "a315a3c1",
   "metadata": {},
   "source": [
    "#### S"
   ]
  },
  {
   "cell_type": "code",
   "execution_count": 52,
   "id": "59bda251",
   "metadata": {},
   "outputs": [],
   "source": [
    "bank_churn_df = pd.read_csv('/Users/xinhuaijin/Desktop/654 hw3/bankchurn.csv')\n",
    "bank_churn_df_rf = bank_churn_df.drop(['Surname'], axis=1)"
   ]
  },
  {
   "cell_type": "markdown",
   "id": "a51fd8d7",
   "metadata": {},
   "source": [
    "#### T"
   ]
  },
  {
   "cell_type": "code",
   "execution_count": 53,
   "id": "299c86e1",
   "metadata": {},
   "outputs": [],
   "source": [
    "categorical_vars = ['Geography', 'Gender']\n",
    "bank_churn_df_rf_dummified = pd.get_dummies(bank_churn_df_rf, columns=categorical_vars)"
   ]
  },
  {
   "cell_type": "markdown",
   "id": "e40728c5",
   "metadata": {},
   "source": [
    "#### U"
   ]
  },
  {
   "cell_type": "code",
   "execution_count": 54,
   "id": "decccf06",
   "metadata": {},
   "outputs": [],
   "source": [
    "X_rf = bank_churn_df_rf_dummified.drop('Exited', axis=1)\n",
    "y_rf = bank_churn_df_rf_dummified['Exited']\n",
    "X_train_rf, X_test_rf, y_train_rf, y_test_rf = train_test_split(X_rf, y_rf, test_size=0.4, random_state=123)"
   ]
  },
  {
   "cell_type": "code",
   "execution_count": 55,
   "id": "41bdd435",
   "metadata": {},
   "outputs": [
    {
     "data": {
      "text/html": [
       "<div>\n",
       "<style scoped>\n",
       "    .dataframe tbody tr th:only-of-type {\n",
       "        vertical-align: middle;\n",
       "    }\n",
       "\n",
       "    .dataframe tbody tr th {\n",
       "        vertical-align: top;\n",
       "    }\n",
       "\n",
       "    .dataframe thead th {\n",
       "        text-align: right;\n",
       "    }\n",
       "</style>\n",
       "<table border=\"1\" class=\"dataframe\">\n",
       "  <thead>\n",
       "    <tr style=\"text-align: right;\">\n",
       "      <th></th>\n",
       "      <th>RowNumber</th>\n",
       "      <th>CustomerId</th>\n",
       "      <th>CreditScore</th>\n",
       "      <th>Age</th>\n",
       "      <th>Tenure</th>\n",
       "      <th>Balance</th>\n",
       "      <th>NumOfProducts</th>\n",
       "      <th>HasCrCard</th>\n",
       "      <th>IsActiveMember</th>\n",
       "      <th>EstimatedSalary</th>\n",
       "      <th>Geography_France</th>\n",
       "      <th>Geography_Germany</th>\n",
       "      <th>Geography_Spain</th>\n",
       "      <th>Gender_Female</th>\n",
       "      <th>Gender_Male</th>\n",
       "    </tr>\n",
       "  </thead>\n",
       "  <tbody>\n",
       "    <tr>\n",
       "      <th>9696</th>\n",
       "      <td>9697</td>\n",
       "      <td>15638788</td>\n",
       "      <td>550</td>\n",
       "      <td>32</td>\n",
       "      <td>8</td>\n",
       "      <td>97514.07</td>\n",
       "      <td>1</td>\n",
       "      <td>1</td>\n",
       "      <td>1</td>\n",
       "      <td>199138.84</td>\n",
       "      <td>1</td>\n",
       "      <td>0</td>\n",
       "      <td>0</td>\n",
       "      <td>0</td>\n",
       "      <td>1</td>\n",
       "    </tr>\n",
       "    <tr>\n",
       "      <th>509</th>\n",
       "      <td>510</td>\n",
       "      <td>15598883</td>\n",
       "      <td>599</td>\n",
       "      <td>37</td>\n",
       "      <td>2</td>\n",
       "      <td>0.00</td>\n",
       "      <td>2</td>\n",
       "      <td>1</td>\n",
       "      <td>1</td>\n",
       "      <td>143739.29</td>\n",
       "      <td>0</td>\n",
       "      <td>0</td>\n",
       "      <td>1</td>\n",
       "      <td>1</td>\n",
       "      <td>0</td>\n",
       "    </tr>\n",
       "    <tr>\n",
       "      <th>621</th>\n",
       "      <td>622</td>\n",
       "      <td>15603134</td>\n",
       "      <td>656</td>\n",
       "      <td>40</td>\n",
       "      <td>10</td>\n",
       "      <td>167878.50</td>\n",
       "      <td>1</td>\n",
       "      <td>0</td>\n",
       "      <td>1</td>\n",
       "      <td>151887.16</td>\n",
       "      <td>0</td>\n",
       "      <td>0</td>\n",
       "      <td>1</td>\n",
       "      <td>1</td>\n",
       "      <td>0</td>\n",
       "    </tr>\n",
       "    <tr>\n",
       "      <th>7681</th>\n",
       "      <td>7682</td>\n",
       "      <td>15633608</td>\n",
       "      <td>641</td>\n",
       "      <td>33</td>\n",
       "      <td>2</td>\n",
       "      <td>146193.60</td>\n",
       "      <td>2</td>\n",
       "      <td>1</td>\n",
       "      <td>1</td>\n",
       "      <td>55796.83</td>\n",
       "      <td>1</td>\n",
       "      <td>0</td>\n",
       "      <td>0</td>\n",
       "      <td>0</td>\n",
       "      <td>1</td>\n",
       "    </tr>\n",
       "    <tr>\n",
       "      <th>4265</th>\n",
       "      <td>4266</td>\n",
       "      <td>15810454</td>\n",
       "      <td>709</td>\n",
       "      <td>32</td>\n",
       "      <td>4</td>\n",
       "      <td>147307.91</td>\n",
       "      <td>1</td>\n",
       "      <td>0</td>\n",
       "      <td>1</td>\n",
       "      <td>40861.55</td>\n",
       "      <td>1</td>\n",
       "      <td>0</td>\n",
       "      <td>0</td>\n",
       "      <td>0</td>\n",
       "      <td>1</td>\n",
       "    </tr>\n",
       "  </tbody>\n",
       "</table>\n",
       "</div>"
      ],
      "text/plain": [
       "      RowNumber  CustomerId  CreditScore  Age  Tenure    Balance  \\\n",
       "9696       9697    15638788          550   32       8   97514.07   \n",
       "509         510    15598883          599   37       2       0.00   \n",
       "621         622    15603134          656   40      10  167878.50   \n",
       "7681       7682    15633608          641   33       2  146193.60   \n",
       "4265       4266    15810454          709   32       4  147307.91   \n",
       "\n",
       "      NumOfProducts  HasCrCard  IsActiveMember  EstimatedSalary  \\\n",
       "9696              1          1               1        199138.84   \n",
       "509               2          1               1        143739.29   \n",
       "621               1          0               1        151887.16   \n",
       "7681              2          1               1         55796.83   \n",
       "4265              1          0               1         40861.55   \n",
       "\n",
       "      Geography_France  Geography_Germany  Geography_Spain  Gender_Female  \\\n",
       "9696                 1                  0                0              0   \n",
       "509                  0                  0                1              1   \n",
       "621                  0                  0                1              1   \n",
       "7681                 1                  0                0              0   \n",
       "4265                 1                  0                0              0   \n",
       "\n",
       "      Gender_Male  \n",
       "9696            1  \n",
       "509             0  \n",
       "621             0  \n",
       "7681            1  \n",
       "4265            1  "
      ]
     },
     "execution_count": 55,
     "metadata": {},
     "output_type": "execute_result"
    }
   ],
   "source": [
    "X_train_rf.head()"
   ]
  },
  {
   "cell_type": "markdown",
   "id": "70e0bce0",
   "metadata": {},
   "source": [
    "#### V"
   ]
  },
  {
   "cell_type": "code",
   "execution_count": 56,
   "id": "2bfa82fb",
   "metadata": {},
   "outputs": [],
   "source": [
    "from sklearn.ensemble import RandomForestClassifier\n",
    "from sklearn.model_selection import GridSearchCV"
   ]
  },
  {
   "cell_type": "code",
   "execution_count": 58,
   "id": "2e61c03e",
   "metadata": {},
   "outputs": [
    {
     "name": "stdout",
     "output_type": "stream",
     "text": [
      "Fitting 3 folds for each of 4 candidates, totalling 12 fits\n"
     ]
    },
    {
     "data": {
      "text/plain": [
       "{'max_depth': None,\n",
       " 'min_samples_leaf': 1,\n",
       " 'min_samples_split': 2,\n",
       " 'n_estimators': 150}"
      ]
     },
     "execution_count": 58,
     "metadata": {},
     "output_type": "execute_result"
    }
   ],
   "source": [
    "simplified_param_grid = {\n",
    "    'n_estimators': [100, 150],  # Fewer options for the number of trees\n",
    "    'max_depth': [10, None],  # Fewer options for the maximum depth of the tree\n",
    "    'min_samples_split': [2],  # Only one option for minimum number of samples to split a node\n",
    "    'min_samples_leaf': [1]  # Only one option for minimum number of samples at each leaf node\n",
    "}\n",
    "\n",
    "# Re-running GridSearchCV with the simplified parameter grid\n",
    "simplified_grid_search = GridSearchCV(estimator=rf_model, param_grid=simplified_param_grid, cv=3, n_jobs=-1, verbose=2)\n",
    "simplified_grid_search.fit(X_train_rf, y_train_rf)\n",
    "\n",
    "# Best parameters found by the simplified GridSearchCV\n",
    "simplified_best_params = simplified_grid_search.best_params_\n",
    "simplified_best_params\n"
   ]
  },
  {
   "cell_type": "markdown",
   "id": "f30f177d",
   "metadata": {},
   "source": [
    "#### W"
   ]
  },
  {
   "cell_type": "code",
   "execution_count": 59,
   "id": "4ab0efe4",
   "metadata": {},
   "outputs": [
    {
     "data": {
      "text/html": [
       "<div>\n",
       "<style scoped>\n",
       "    .dataframe tbody tr th:only-of-type {\n",
       "        vertical-align: middle;\n",
       "    }\n",
       "\n",
       "    .dataframe tbody tr th {\n",
       "        vertical-align: top;\n",
       "    }\n",
       "\n",
       "    .dataframe thead th {\n",
       "        text-align: right;\n",
       "    }\n",
       "</style>\n",
       "<table border=\"1\" class=\"dataframe\">\n",
       "  <thead>\n",
       "    <tr style=\"text-align: right;\">\n",
       "      <th></th>\n",
       "      <th>Feature</th>\n",
       "      <th>Importance</th>\n",
       "    </tr>\n",
       "  </thead>\n",
       "  <tbody>\n",
       "    <tr>\n",
       "      <th>3</th>\n",
       "      <td>Age</td>\n",
       "      <td>0.206482</td>\n",
       "    </tr>\n",
       "    <tr>\n",
       "      <th>6</th>\n",
       "      <td>NumOfProducts</td>\n",
       "      <td>0.108301</td>\n",
       "    </tr>\n",
       "    <tr>\n",
       "      <th>5</th>\n",
       "      <td>Balance</td>\n",
       "      <td>0.104936</td>\n",
       "    </tr>\n",
       "    <tr>\n",
       "      <th>9</th>\n",
       "      <td>EstimatedSalary</td>\n",
       "      <td>0.103140</td>\n",
       "    </tr>\n",
       "    <tr>\n",
       "      <th>1</th>\n",
       "      <td>CustomerId</td>\n",
       "      <td>0.102587</td>\n",
       "    </tr>\n",
       "    <tr>\n",
       "      <th>2</th>\n",
       "      <td>CreditScore</td>\n",
       "      <td>0.102543</td>\n",
       "    </tr>\n",
       "    <tr>\n",
       "      <th>0</th>\n",
       "      <td>RowNumber</td>\n",
       "      <td>0.100385</td>\n",
       "    </tr>\n",
       "    <tr>\n",
       "      <th>4</th>\n",
       "      <td>Tenure</td>\n",
       "      <td>0.060469</td>\n",
       "    </tr>\n",
       "    <tr>\n",
       "      <th>8</th>\n",
       "      <td>IsActiveMember</td>\n",
       "      <td>0.035862</td>\n",
       "    </tr>\n",
       "    <tr>\n",
       "      <th>11</th>\n",
       "      <td>Geography_Germany</td>\n",
       "      <td>0.022776</td>\n",
       "    </tr>\n",
       "    <tr>\n",
       "      <th>7</th>\n",
       "      <td>HasCrCard</td>\n",
       "      <td>0.015012</td>\n",
       "    </tr>\n",
       "    <tr>\n",
       "      <th>10</th>\n",
       "      <td>Geography_France</td>\n",
       "      <td>0.009736</td>\n",
       "    </tr>\n",
       "    <tr>\n",
       "      <th>14</th>\n",
       "      <td>Gender_Male</td>\n",
       "      <td>0.009422</td>\n",
       "    </tr>\n",
       "    <tr>\n",
       "      <th>13</th>\n",
       "      <td>Gender_Female</td>\n",
       "      <td>0.009388</td>\n",
       "    </tr>\n",
       "    <tr>\n",
       "      <th>12</th>\n",
       "      <td>Geography_Spain</td>\n",
       "      <td>0.008962</td>\n",
       "    </tr>\n",
       "  </tbody>\n",
       "</table>\n",
       "</div>"
      ],
      "text/plain": [
       "              Feature  Importance\n",
       "3                 Age    0.206482\n",
       "6       NumOfProducts    0.108301\n",
       "5             Balance    0.104936\n",
       "9     EstimatedSalary    0.103140\n",
       "1          CustomerId    0.102587\n",
       "2         CreditScore    0.102543\n",
       "0           RowNumber    0.100385\n",
       "4              Tenure    0.060469\n",
       "8      IsActiveMember    0.035862\n",
       "11  Geography_Germany    0.022776\n",
       "7           HasCrCard    0.015012\n",
       "10   Geography_France    0.009736\n",
       "14        Gender_Male    0.009422\n",
       "13      Gender_Female    0.009388\n",
       "12    Geography_Spain    0.008962"
      ]
     },
     "execution_count": 59,
     "metadata": {},
     "output_type": "execute_result"
    },
    {
     "name": "stdout",
     "output_type": "stream",
     "text": [
      "[CV] END max_depth=None, min_samples_leaf=1, min_samples_split=2, n_estimators=100; total time=   0.6s\n",
      "[CV] END max_depth=10, min_samples_leaf=1, min_samples_split=2, n_estimators=150; total time=   0.7s\n",
      "[CV] END max_depth=10, min_samples_leaf=1, min_samples_split=2, n_estimators=150; total time=   0.7s\n",
      "[CV] END max_depth=10, min_samples_leaf=1, min_samples_split=2, n_estimators=150; total time=   0.7s\n",
      "[CV] END max_depth=10, min_samples_leaf=1, min_samples_split=2, n_estimators=100; total time=   0.5s\n",
      "[CV] END max_depth=None, min_samples_leaf=1, min_samples_split=2, n_estimators=100; total time=   0.5s\n",
      "[CV] END max_depth=10, min_samples_leaf=1, min_samples_split=2, n_estimators=100; total time=   0.5s\n",
      "[CV] END max_depth=None, min_samples_leaf=1, min_samples_split=2, n_estimators=150; total time=   0.6s\n",
      "[CV] END max_depth=None, min_samples_leaf=1, min_samples_split=2, n_estimators=100; total time=   0.6s\n",
      "[CV] END max_depth=None, min_samples_leaf=1, min_samples_split=2, n_estimators=150; total time=   0.6s\n",
      "[CV] END max_depth=10, min_samples_leaf=1, min_samples_split=2, n_estimators=100; total time=   0.5s\n",
      "[CV] END max_depth=None, min_samples_leaf=1, min_samples_split=2, n_estimators=150; total time=   0.7s\n"
     ]
    }
   ],
   "source": [
    "# Building a Random Forest model with default parameters, without using GridSearchCV\n",
    "rf_default_model = RandomForestClassifier(random_state=123)\n",
    "rf_default_model.fit(X_train_rf, y_train_rf)\n",
    "\n",
    "# Assessing the importance of features in the Random Forest model\n",
    "feature_importances = rf_default_model.feature_importances_\n",
    "features_df = pd.DataFrame({\n",
    "    'Feature': X_train_rf.columns,\n",
    "    'Importance': feature_importances\n",
    "}).sort_values(by='Importance', ascending=False)\n",
    "\n",
    "features_df"
   ]
  },
  {
   "cell_type": "markdown",
   "id": "6a429656",
   "metadata": {},
   "source": [
    "Interpretation of Feature Importance in Random Forest Model\n",
    "\n",
    "Feature Importance: In a random forest model, feature importance is based on how much each feature decreases the impurity of the split (commonly measured by Gini impurity). A higher importance value means the feature is more important for making predictions.\n",
    "Decision Making: Important features are those that contribute more to the decision-making process in the model. For instance, Age and NumOfProducts are key determinants in predicting customer churn in this model."
   ]
  },
  {
   "cell_type": "markdown",
   "id": "5adf2b3a",
   "metadata": {},
   "source": [
    "#### X"
   ]
  },
  {
   "cell_type": "code",
   "execution_count": 60,
   "id": "f48050a4",
   "metadata": {},
   "outputs": [
    {
     "data": {
      "text/plain": [
       "(array([[3110,   92],\n",
       "        [ 443,  355]]),\n",
       " (0.86625,\n",
       "  0.4448621553884712,\n",
       "  0.9712679575265459,\n",
       "  0.7941834451901566,\n",
       "  0.7080650564575086))"
      ]
     },
     "execution_count": 60,
     "metadata": {},
     "output_type": "execute_result"
    }
   ],
   "source": [
    "# Assessing the performance of the Random Forest model against the test set\n",
    "# Predicting on the test set\n",
    "y_pred_rf = rf_default_model.predict(X_test_rf)\n",
    "\n",
    "# Building a confusion matrix\n",
    "conf_matrix_rf = confusion_matrix(y_test_rf, y_pred_rf)\n",
    "\n",
    "# Calculating various performance metrics\n",
    "accuracy_rf = accuracy_score(y_test_rf, y_pred_rf)\n",
    "sensitivity_rf = recall_score(y_test_rf, y_pred_rf)  # Sensitivity is the same as recall for \"1\" class\n",
    "specificity_rf = recall_score(y_test_rf, y_pred_rf, pos_label=0)\n",
    "precision_rf = precision_score(y_test_rf, y_pred_rf)\n",
    "balanced_accuracy_rf = balanced_accuracy_score(y_test_rf, y_pred_rf)\n",
    "\n",
    "# Displaying the confusion matrix and performance metrics\n",
    "conf_matrix_rf, (accuracy_rf, sensitivity_rf, specificity_rf, precision_rf, balanced_accuracy_rf)\n"
   ]
  },
  {
   "cell_type": "markdown",
   "id": "26116c25",
   "metadata": {},
   "source": [
    "#### Y"
   ]
  },
  {
   "cell_type": "code",
   "execution_count": 61,
   "id": "b2b2fc59",
   "metadata": {},
   "outputs": [
    {
     "data": {
      "text/plain": [
       "(0.9998333333333334, 0.86625)"
      ]
     },
     "execution_count": 61,
     "metadata": {},
     "output_type": "execute_result"
    }
   ],
   "source": [
    "\n",
    "# Calculating the model's accuracy on the training set\n",
    "y_train_rf_pred = rf_default_model.predict(X_train_rf)\n",
    "accuracy_train_rf = accuracy_score(y_train_rf, y_train_rf_pred)\n",
    "\n",
    "# Accuracy on the test set (previously calculated)\n",
    "accuracy_test_rf = accuracy_rf\n",
    "\n",
    "# Displaying the accuracies for comparison\n",
    "accuracy_train_rf, accuracy_test_rf\n"
   ]
  },
  {
   "cell_type": "markdown",
   "id": "5935ec54",
   "metadata": {},
   "source": [
    "There is a substantial difference between the training set accuracy and the test set accuracy. The model is nearly perfect on the training set but less so on the test set."
   ]
  },
  {
   "cell_type": "markdown",
   "id": "32640034",
   "metadata": {},
   "source": [
    "#### Z"
   ]
  },
  {
   "cell_type": "code",
   "execution_count": 68,
   "id": "5f627c9a",
   "metadata": {},
   "outputs": [
    {
     "data": {
      "text/plain": [
       "0"
      ]
     },
     "execution_count": 68,
     "metadata": {},
     "output_type": "execute_result"
    }
   ],
   "source": [
    "# Creating a new profile for the hypothetical customer with some alterations\n",
    "altered_customer_data = {\n",
    "    'RowNumber':[10001],\n",
    "    'CustomerId':[16000000],\n",
    "    'CreditScore': [650],\n",
    "    'Age': [40],\n",
    "    'Tenure':[5],\n",
    "    'Balance': [50000],\n",
    "    'NumOfProducts':[1],\n",
    "    'HasCrCard':[1],\n",
    "    'IsActiveMember': [1],\n",
    "    'EstimatedSalary':[73329.08],\n",
    "    'Geography_France':[1],\n",
    "    'Geography_Germany': [0],\n",
    "    'Geography_Spain': [0],\n",
    "    'Gender_Female': [0],\n",
    "    'Gender_Male': [1]\n",
    "}\n",
    "\n",
    "# Converting to DataFrame and dummifying categorical variables\n",
    "altered_customer_df = pd.DataFrame(altered_customer_data)\n",
    "altered_customer_df = pd.get_dummies(altered_customer_df)\n",
    "\n",
    "# Ensuring that the DataFrame has the same columns as the training set, filling missing columns with 0\n",
    "for col in X_train_rf.columns:\n",
    "    if col not in altered_customer_df.columns:\n",
    "        altered_customer_df[col] = 0\n",
    "\n",
    "# Predicting the status of the altered customer using the random forest model\n",
    "altered_customer_pred = rf_default_model.predict(altered_customer_df)\n",
    "altered_customer_pred[0]  # Displaying the prediction (0 for stay, 1 for leave)\n"
   ]
  },
  {
   "cell_type": "markdown",
   "id": "61c6ef33",
   "metadata": {},
   "source": [
    "The model says customer will stay."
   ]
  },
  {
   "cell_type": "code",
   "execution_count": 64,
   "id": "2a7b440a",
   "metadata": {},
   "outputs": [
    {
     "data": {
      "text/html": [
       "<div>\n",
       "<style scoped>\n",
       "    .dataframe tbody tr th:only-of-type {\n",
       "        vertical-align: middle;\n",
       "    }\n",
       "\n",
       "    .dataframe tbody tr th {\n",
       "        vertical-align: top;\n",
       "    }\n",
       "\n",
       "    .dataframe thead th {\n",
       "        text-align: right;\n",
       "    }\n",
       "</style>\n",
       "<table border=\"1\" class=\"dataframe\">\n",
       "  <thead>\n",
       "    <tr style=\"text-align: right;\">\n",
       "      <th></th>\n",
       "      <th>RowNumber</th>\n",
       "      <th>CustomerId</th>\n",
       "      <th>CreditScore</th>\n",
       "      <th>Age</th>\n",
       "      <th>Tenure</th>\n",
       "      <th>Balance</th>\n",
       "      <th>NumOfProducts</th>\n",
       "      <th>HasCrCard</th>\n",
       "      <th>IsActiveMember</th>\n",
       "      <th>EstimatedSalary</th>\n",
       "      <th>Geography_France</th>\n",
       "      <th>Geography_Germany</th>\n",
       "      <th>Geography_Spain</th>\n",
       "      <th>Gender_Female</th>\n",
       "      <th>Gender_Male</th>\n",
       "    </tr>\n",
       "  </thead>\n",
       "  <tbody>\n",
       "    <tr>\n",
       "      <th>9696</th>\n",
       "      <td>9697</td>\n",
       "      <td>15638788</td>\n",
       "      <td>550</td>\n",
       "      <td>32</td>\n",
       "      <td>8</td>\n",
       "      <td>97514.07</td>\n",
       "      <td>1</td>\n",
       "      <td>1</td>\n",
       "      <td>1</td>\n",
       "      <td>199138.84</td>\n",
       "      <td>1</td>\n",
       "      <td>0</td>\n",
       "      <td>0</td>\n",
       "      <td>0</td>\n",
       "      <td>1</td>\n",
       "    </tr>\n",
       "    <tr>\n",
       "      <th>509</th>\n",
       "      <td>510</td>\n",
       "      <td>15598883</td>\n",
       "      <td>599</td>\n",
       "      <td>37</td>\n",
       "      <td>2</td>\n",
       "      <td>0.00</td>\n",
       "      <td>2</td>\n",
       "      <td>1</td>\n",
       "      <td>1</td>\n",
       "      <td>143739.29</td>\n",
       "      <td>0</td>\n",
       "      <td>0</td>\n",
       "      <td>1</td>\n",
       "      <td>1</td>\n",
       "      <td>0</td>\n",
       "    </tr>\n",
       "    <tr>\n",
       "      <th>621</th>\n",
       "      <td>622</td>\n",
       "      <td>15603134</td>\n",
       "      <td>656</td>\n",
       "      <td>40</td>\n",
       "      <td>10</td>\n",
       "      <td>167878.50</td>\n",
       "      <td>1</td>\n",
       "      <td>0</td>\n",
       "      <td>1</td>\n",
       "      <td>151887.16</td>\n",
       "      <td>0</td>\n",
       "      <td>0</td>\n",
       "      <td>1</td>\n",
       "      <td>1</td>\n",
       "      <td>0</td>\n",
       "    </tr>\n",
       "    <tr>\n",
       "      <th>7681</th>\n",
       "      <td>7682</td>\n",
       "      <td>15633608</td>\n",
       "      <td>641</td>\n",
       "      <td>33</td>\n",
       "      <td>2</td>\n",
       "      <td>146193.60</td>\n",
       "      <td>2</td>\n",
       "      <td>1</td>\n",
       "      <td>1</td>\n",
       "      <td>55796.83</td>\n",
       "      <td>1</td>\n",
       "      <td>0</td>\n",
       "      <td>0</td>\n",
       "      <td>0</td>\n",
       "      <td>1</td>\n",
       "    </tr>\n",
       "    <tr>\n",
       "      <th>4265</th>\n",
       "      <td>4266</td>\n",
       "      <td>15810454</td>\n",
       "      <td>709</td>\n",
       "      <td>32</td>\n",
       "      <td>4</td>\n",
       "      <td>147307.91</td>\n",
       "      <td>1</td>\n",
       "      <td>0</td>\n",
       "      <td>1</td>\n",
       "      <td>40861.55</td>\n",
       "      <td>1</td>\n",
       "      <td>0</td>\n",
       "      <td>0</td>\n",
       "      <td>0</td>\n",
       "      <td>1</td>\n",
       "    </tr>\n",
       "    <tr>\n",
       "      <th>...</th>\n",
       "      <td>...</td>\n",
       "      <td>...</td>\n",
       "      <td>...</td>\n",
       "      <td>...</td>\n",
       "      <td>...</td>\n",
       "      <td>...</td>\n",
       "      <td>...</td>\n",
       "      <td>...</td>\n",
       "      <td>...</td>\n",
       "      <td>...</td>\n",
       "      <td>...</td>\n",
       "      <td>...</td>\n",
       "      <td>...</td>\n",
       "      <td>...</td>\n",
       "      <td>...</td>\n",
       "    </tr>\n",
       "    <tr>\n",
       "      <th>9785</th>\n",
       "      <td>9786</td>\n",
       "      <td>15609187</td>\n",
       "      <td>455</td>\n",
       "      <td>27</td>\n",
       "      <td>5</td>\n",
       "      <td>155879.09</td>\n",
       "      <td>2</td>\n",
       "      <td>0</td>\n",
       "      <td>0</td>\n",
       "      <td>70774.97</td>\n",
       "      <td>1</td>\n",
       "      <td>0</td>\n",
       "      <td>0</td>\n",
       "      <td>1</td>\n",
       "      <td>0</td>\n",
       "    </tr>\n",
       "    <tr>\n",
       "      <th>7763</th>\n",
       "      <td>7764</td>\n",
       "      <td>15767064</td>\n",
       "      <td>614</td>\n",
       "      <td>36</td>\n",
       "      <td>1</td>\n",
       "      <td>44054.84</td>\n",
       "      <td>1</td>\n",
       "      <td>1</td>\n",
       "      <td>1</td>\n",
       "      <td>73329.08</td>\n",
       "      <td>0</td>\n",
       "      <td>0</td>\n",
       "      <td>1</td>\n",
       "      <td>1</td>\n",
       "      <td>0</td>\n",
       "    </tr>\n",
       "    <tr>\n",
       "      <th>5218</th>\n",
       "      <td>5219</td>\n",
       "      <td>15781505</td>\n",
       "      <td>685</td>\n",
       "      <td>20</td>\n",
       "      <td>4</td>\n",
       "      <td>104719.94</td>\n",
       "      <td>2</td>\n",
       "      <td>1</td>\n",
       "      <td>0</td>\n",
       "      <td>38691.34</td>\n",
       "      <td>1</td>\n",
       "      <td>0</td>\n",
       "      <td>0</td>\n",
       "      <td>0</td>\n",
       "      <td>1</td>\n",
       "    </tr>\n",
       "    <tr>\n",
       "      <th>1346</th>\n",
       "      <td>1347</td>\n",
       "      <td>15777826</td>\n",
       "      <td>643</td>\n",
       "      <td>30</td>\n",
       "      <td>5</td>\n",
       "      <td>94443.77</td>\n",
       "      <td>1</td>\n",
       "      <td>1</td>\n",
       "      <td>1</td>\n",
       "      <td>165614.40</td>\n",
       "      <td>1</td>\n",
       "      <td>0</td>\n",
       "      <td>0</td>\n",
       "      <td>0</td>\n",
       "      <td>1</td>\n",
       "    </tr>\n",
       "    <tr>\n",
       "      <th>3582</th>\n",
       "      <td>3583</td>\n",
       "      <td>15588461</td>\n",
       "      <td>686</td>\n",
       "      <td>35</td>\n",
       "      <td>4</td>\n",
       "      <td>0.00</td>\n",
       "      <td>1</td>\n",
       "      <td>1</td>\n",
       "      <td>0</td>\n",
       "      <td>8816.37</td>\n",
       "      <td>1</td>\n",
       "      <td>0</td>\n",
       "      <td>0</td>\n",
       "      <td>0</td>\n",
       "      <td>1</td>\n",
       "    </tr>\n",
       "  </tbody>\n",
       "</table>\n",
       "<p>6000 rows × 15 columns</p>\n",
       "</div>"
      ],
      "text/plain": [
       "      RowNumber  CustomerId  CreditScore  Age  Tenure    Balance  \\\n",
       "9696       9697    15638788          550   32       8   97514.07   \n",
       "509         510    15598883          599   37       2       0.00   \n",
       "621         622    15603134          656   40      10  167878.50   \n",
       "7681       7682    15633608          641   33       2  146193.60   \n",
       "4265       4266    15810454          709   32       4  147307.91   \n",
       "...         ...         ...          ...  ...     ...        ...   \n",
       "9785       9786    15609187          455   27       5  155879.09   \n",
       "7763       7764    15767064          614   36       1   44054.84   \n",
       "5218       5219    15781505          685   20       4  104719.94   \n",
       "1346       1347    15777826          643   30       5   94443.77   \n",
       "3582       3583    15588461          686   35       4       0.00   \n",
       "\n",
       "      NumOfProducts  HasCrCard  IsActiveMember  EstimatedSalary  \\\n",
       "9696              1          1               1        199138.84   \n",
       "509               2          1               1        143739.29   \n",
       "621               1          0               1        151887.16   \n",
       "7681              2          1               1         55796.83   \n",
       "4265              1          0               1         40861.55   \n",
       "...             ...        ...             ...              ...   \n",
       "9785              2          0               0         70774.97   \n",
       "7763              1          1               1         73329.08   \n",
       "5218              2          1               0         38691.34   \n",
       "1346              1          1               1        165614.40   \n",
       "3582              1          1               0          8816.37   \n",
       "\n",
       "      Geography_France  Geography_Germany  Geography_Spain  Gender_Female  \\\n",
       "9696                 1                  0                0              0   \n",
       "509                  0                  0                1              1   \n",
       "621                  0                  0                1              1   \n",
       "7681                 1                  0                0              0   \n",
       "4265                 1                  0                0              0   \n",
       "...                ...                ...              ...            ...   \n",
       "9785                 1                  0                0              1   \n",
       "7763                 0                  0                1              1   \n",
       "5218                 1                  0                0              0   \n",
       "1346                 1                  0                0              0   \n",
       "3582                 1                  0                0              0   \n",
       "\n",
       "      Gender_Male  \n",
       "9696            1  \n",
       "509             0  \n",
       "621             0  \n",
       "7681            1  \n",
       "4265            1  \n",
       "...           ...  \n",
       "9785            0  \n",
       "7763            0  \n",
       "5218            1  \n",
       "1346            1  \n",
       "3582            1  \n",
       "\n",
       "[6000 rows x 15 columns]"
      ]
     },
     "execution_count": 64,
     "metadata": {},
     "output_type": "execute_result"
    }
   ],
   "source": []
  },
  {
   "cell_type": "markdown",
   "id": "703cf2d1",
   "metadata": {},
   "source": [
    "#### AA\n",
    "\n",
    "The logistic regression and random forest models help a bank identify customers likely to leave, focusing on variables like age, product usage, and account activity. Using these insights, the bank can target high-risk customers with personalized retention strategies, such as exclusive services for older customers or loyalty programs for those with fewer products. This approach enhances customer retention, service quality, and overall profitability."
   ]
  },
  {
   "cell_type": "markdown",
   "id": "65564697",
   "metadata": {},
   "source": [
    "### Part III"
   ]
  },
  {
   "cell_type": "markdown",
   "id": "b8fca358",
   "metadata": {},
   "source": [
    "Here is the wordcloud of Isshindo Ramen"
   ]
  },
  {
   "cell_type": "code",
   "execution_count": 70,
   "id": "9df6da2e",
   "metadata": {},
   "outputs": [
    {
     "data": {
      "image/jpeg": "[encoded data removed]",
      "text/plain": [
       "<IPython.core.display.Image object>"
      ]
     },
     "metadata": {},
     "output_type": "display_data"
    }
   ],
   "source": [
    "from IPython.display import Image, display\n",
    "display(Image('/Users/xinhuaijin/Desktop/654 hw3/Image 10-30-23 at 1.03 AM.jpg'\n",
    "))"
   ]
  },
  {
   "cell_type": "markdown",
   "id": "caac5f1b",
   "metadata": {},
   "source": [
    "The wordcloud shows the ingredidents, features and tastes of popular items in the restaurant."
   ]
  }
 ],
 "metadata": {
  "kernelspec": {
   "display_name": "Python 3 (ipykernel)",
   "language": "python",
   "name": "python3"
  },
  "language_info": {
   "codemirror_mode": {
    "name": "ipython",
    "version": 3
   },
   "file_extension": ".py",
   "mimetype": "text/x-python",
   "name": "python",
   "nbconvert_exporter": "python",
   "pygments_lexer": "ipython3",
   "version": "3.11.4"
  }
 },
 "nbformat": 4,
 "nbformat_minor": 5
}
