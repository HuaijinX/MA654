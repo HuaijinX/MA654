{
 "cells": [
  {
   "cell_type": "markdown",
   "id": "1ff13c7f",
   "metadata": {},
   "source": [
    "## Assigment 2 \n",
    "## Huaijin Xin"
   ]
  },
  {
   "cell_type": "code",
   "execution_count": 91,
   "id": "0c47dc5e",
   "metadata": {},
   "outputs": [],
   "source": [
    "import pandas as pd\n",
    "passholder = pd.read_csv(\"/Users/xinhuaijin/Desktop/assignments/passhold.csv\")"
   ]
  },
  {
   "cell_type": "markdown",
   "id": "cf0b562d",
   "metadata": {},
   "source": [
    "### part 1\n",
    "#### A"
   ]
  },
  {
   "cell_type": "code",
   "execution_count": 92,
   "id": "8bc946db",
   "metadata": {},
   "outputs": [],
   "source": [
    "passholder.drop(columns=['passholderID'], inplace=True)"
   ]
  },
  {
   "cell_type": "code",
   "execution_count": 11,
   "id": "92daadc6",
   "metadata": {},
   "outputs": [
    {
     "data": {
      "text/html": [
       "<div>\n",
       "<style scoped>\n",
       "    .dataframe tbody tr th:only-of-type {\n",
       "        vertical-align: middle;\n",
       "    }\n",
       "\n",
       "    .dataframe tbody tr th {\n",
       "        vertical-align: top;\n",
       "    }\n",
       "\n",
       "    .dataframe thead th {\n",
       "        text-align: right;\n",
       "    }\n",
       "</style>\n",
       "<table border=\"1\" class=\"dataframe\">\n",
       "  <thead>\n",
       "    <tr style=\"text-align: right;\">\n",
       "      <th></th>\n",
       "      <th>visits23</th>\n",
       "      <th>ride_avg</th>\n",
       "      <th>game_spend_avg</th>\n",
       "      <th>avg_duration</th>\n",
       "      <th>inquiries_365</th>\n",
       "      <th>discounts_23</th>\n",
       "      <th>merch_spend_average</th>\n",
       "      <th>online_spend_average</th>\n",
       "      <th>food_spend_average</th>\n",
       "    </tr>\n",
       "  </thead>\n",
       "  <tbody>\n",
       "    <tr>\n",
       "      <th>0</th>\n",
       "      <td>3</td>\n",
       "      <td>5.8</td>\n",
       "      <td>14.8</td>\n",
       "      <td>129.4</td>\n",
       "      <td>2</td>\n",
       "      <td>3</td>\n",
       "      <td>13.6</td>\n",
       "      <td>24.5</td>\n",
       "      <td>17.3</td>\n",
       "    </tr>\n",
       "    <tr>\n",
       "      <th>1</th>\n",
       "      <td>7</td>\n",
       "      <td>6.1</td>\n",
       "      <td>17.2</td>\n",
       "      <td>328.7</td>\n",
       "      <td>7</td>\n",
       "      <td>3</td>\n",
       "      <td>14.0</td>\n",
       "      <td>25.3</td>\n",
       "      <td>17.4</td>\n",
       "    </tr>\n",
       "    <tr>\n",
       "      <th>2</th>\n",
       "      <td>7</td>\n",
       "      <td>4.9</td>\n",
       "      <td>15.7</td>\n",
       "      <td>379.6</td>\n",
       "      <td>4</td>\n",
       "      <td>1</td>\n",
       "      <td>13.4</td>\n",
       "      <td>24.7</td>\n",
       "      <td>17.6</td>\n",
       "    </tr>\n",
       "    <tr>\n",
       "      <th>3</th>\n",
       "      <td>1</td>\n",
       "      <td>4.5</td>\n",
       "      <td>26.7</td>\n",
       "      <td>247.6</td>\n",
       "      <td>3</td>\n",
       "      <td>9</td>\n",
       "      <td>13.2</td>\n",
       "      <td>22.7</td>\n",
       "      <td>22.2</td>\n",
       "    </tr>\n",
       "    <tr>\n",
       "      <th>4</th>\n",
       "      <td>3</td>\n",
       "      <td>2.7</td>\n",
       "      <td>16.3</td>\n",
       "      <td>82.4</td>\n",
       "      <td>3</td>\n",
       "      <td>0</td>\n",
       "      <td>13.2</td>\n",
       "      <td>23.2</td>\n",
       "      <td>16.0</td>\n",
       "    </tr>\n",
       "  </tbody>\n",
       "</table>\n",
       "</div>"
      ],
      "text/plain": [
       "   visits23  ride_avg  game_spend_avg  avg_duration  inquiries_365  \\\n",
       "0         3       5.8            14.8         129.4              2   \n",
       "1         7       6.1            17.2         328.7              7   \n",
       "2         7       4.9            15.7         379.6              4   \n",
       "3         1       4.5            26.7         247.6              3   \n",
       "4         3       2.7            16.3          82.4              3   \n",
       "\n",
       "   discounts_23  merch_spend_average  online_spend_average  food_spend_average  \n",
       "0             3                 13.6                  24.5                17.3  \n",
       "1             3                 14.0                  25.3                17.4  \n",
       "2             1                 13.4                  24.7                17.6  \n",
       "3             9                 13.2                  22.7                22.2  \n",
       "4             0                 13.2                  23.2                16.0  "
      ]
     },
     "execution_count": 11,
     "metadata": {},
     "output_type": "execute_result"
    }
   ],
   "source": [
    "passholder.head()"
   ]
  },
  {
   "cell_type": "markdown",
   "id": "9beefac9",
   "metadata": {},
   "source": [
    "Clustering is based on finding patterns and similarities in the features (variables) provided. Including a unique identifier like passholderID would not add any meaningful information for clustering. In the process of calculating Euclidean distance, the passholderID will produce noise which would affect the clustering results."
   ]
  },
  {
   "cell_type": "markdown",
   "id": "538d1ec5",
   "metadata": {},
   "source": [
    "#### B"
   ]
  },
  {
   "cell_type": "code",
   "execution_count": 12,
   "id": "fd561071",
   "metadata": {},
   "outputs": [
    {
     "data": {
      "text/html": [
       "<div>\n",
       "<style scoped>\n",
       "    .dataframe tbody tr th:only-of-type {\n",
       "        vertical-align: middle;\n",
       "    }\n",
       "\n",
       "    .dataframe tbody tr th {\n",
       "        vertical-align: top;\n",
       "    }\n",
       "\n",
       "    .dataframe thead th {\n",
       "        text-align: right;\n",
       "    }\n",
       "</style>\n",
       "<table border=\"1\" class=\"dataframe\">\n",
       "  <thead>\n",
       "    <tr style=\"text-align: right;\">\n",
       "      <th></th>\n",
       "      <th>visits23</th>\n",
       "      <th>ride_avg</th>\n",
       "      <th>game_spend_avg</th>\n",
       "      <th>avg_duration</th>\n",
       "      <th>inquiries_365</th>\n",
       "      <th>discounts_23</th>\n",
       "      <th>merch_spend_average</th>\n",
       "      <th>online_spend_average</th>\n",
       "      <th>food_spend_average</th>\n",
       "    </tr>\n",
       "  </thead>\n",
       "  <tbody>\n",
       "    <tr>\n",
       "      <th>count</th>\n",
       "      <td>800.000000</td>\n",
       "      <td>800.000000</td>\n",
       "      <td>800.000000</td>\n",
       "      <td>800.000000</td>\n",
       "      <td>800.000000</td>\n",
       "      <td>800.000000</td>\n",
       "      <td>800.000000</td>\n",
       "      <td>800.000000</td>\n",
       "      <td>800.000000</td>\n",
       "    </tr>\n",
       "    <tr>\n",
       "      <th>mean</th>\n",
       "      <td>5.857500</td>\n",
       "      <td>5.052375</td>\n",
       "      <td>18.855750</td>\n",
       "      <td>235.569875</td>\n",
       "      <td>3.936250</td>\n",
       "      <td>2.948750</td>\n",
       "      <td>14.934625</td>\n",
       "      <td>24.013750</td>\n",
       "      <td>19.058875</td>\n",
       "    </tr>\n",
       "    <tr>\n",
       "      <th>std</th>\n",
       "      <td>2.465724</td>\n",
       "      <td>1.959060</td>\n",
       "      <td>4.028328</td>\n",
       "      <td>101.832402</td>\n",
       "      <td>2.004922</td>\n",
       "      <td>1.725499</td>\n",
       "      <td>2.163230</td>\n",
       "      <td>1.158064</td>\n",
       "      <td>3.100098</td>\n",
       "    </tr>\n",
       "    <tr>\n",
       "      <th>min</th>\n",
       "      <td>1.000000</td>\n",
       "      <td>-1.600000</td>\n",
       "      <td>6.000000</td>\n",
       "      <td>60.400000</td>\n",
       "      <td>0.000000</td>\n",
       "      <td>0.000000</td>\n",
       "      <td>8.200000</td>\n",
       "      <td>21.200000</td>\n",
       "      <td>9.400000</td>\n",
       "    </tr>\n",
       "    <tr>\n",
       "      <th>25%</th>\n",
       "      <td>4.000000</td>\n",
       "      <td>3.800000</td>\n",
       "      <td>16.200000</td>\n",
       "      <td>146.875000</td>\n",
       "      <td>2.000000</td>\n",
       "      <td>2.000000</td>\n",
       "      <td>13.400000</td>\n",
       "      <td>23.200000</td>\n",
       "      <td>17.075000</td>\n",
       "    </tr>\n",
       "    <tr>\n",
       "      <th>50%</th>\n",
       "      <td>6.000000</td>\n",
       "      <td>5.100000</td>\n",
       "      <td>18.800000</td>\n",
       "      <td>240.350000</td>\n",
       "      <td>4.000000</td>\n",
       "      <td>3.000000</td>\n",
       "      <td>14.900000</td>\n",
       "      <td>24.000000</td>\n",
       "      <td>19.100000</td>\n",
       "    </tr>\n",
       "    <tr>\n",
       "      <th>75%</th>\n",
       "      <td>7.000000</td>\n",
       "      <td>6.400000</td>\n",
       "      <td>21.400000</td>\n",
       "      <td>320.175000</td>\n",
       "      <td>5.000000</td>\n",
       "      <td>4.000000</td>\n",
       "      <td>16.400000</td>\n",
       "      <td>24.900000</td>\n",
       "      <td>21.100000</td>\n",
       "    </tr>\n",
       "    <tr>\n",
       "      <th>max</th>\n",
       "      <td>15.000000</td>\n",
       "      <td>11.400000</td>\n",
       "      <td>33.000000</td>\n",
       "      <td>410.000000</td>\n",
       "      <td>15.000000</td>\n",
       "      <td>11.000000</td>\n",
       "      <td>21.400000</td>\n",
       "      <td>28.800000</td>\n",
       "      <td>29.200000</td>\n",
       "    </tr>\n",
       "  </tbody>\n",
       "</table>\n",
       "</div>"
      ],
      "text/plain": [
       "         visits23    ride_avg  game_spend_avg  avg_duration  inquiries_365  \\\n",
       "count  800.000000  800.000000      800.000000    800.000000     800.000000   \n",
       "mean     5.857500    5.052375       18.855750    235.569875       3.936250   \n",
       "std      2.465724    1.959060        4.028328    101.832402       2.004922   \n",
       "min      1.000000   -1.600000        6.000000     60.400000       0.000000   \n",
       "25%      4.000000    3.800000       16.200000    146.875000       2.000000   \n",
       "50%      6.000000    5.100000       18.800000    240.350000       4.000000   \n",
       "75%      7.000000    6.400000       21.400000    320.175000       5.000000   \n",
       "max     15.000000   11.400000       33.000000    410.000000      15.000000   \n",
       "\n",
       "       discounts_23  merch_spend_average  online_spend_average  \\\n",
       "count    800.000000           800.000000            800.000000   \n",
       "mean       2.948750            14.934625             24.013750   \n",
       "std        1.725499             2.163230              1.158064   \n",
       "min        0.000000             8.200000             21.200000   \n",
       "25%        2.000000            13.400000             23.200000   \n",
       "50%        3.000000            14.900000             24.000000   \n",
       "75%        4.000000            16.400000             24.900000   \n",
       "max       11.000000            21.400000             28.800000   \n",
       "\n",
       "       food_spend_average  \n",
       "count          800.000000  \n",
       "mean            19.058875  \n",
       "std              3.100098  \n",
       "min              9.400000  \n",
       "25%             17.075000  \n",
       "50%             19.100000  \n",
       "75%             21.100000  \n",
       "max             29.200000  "
      ]
     },
     "execution_count": 12,
     "metadata": {},
     "output_type": "execute_result"
    }
   ],
   "source": [
    "passholder.describe()"
   ]
  },
  {
   "cell_type": "markdown",
   "id": "981007a2",
   "metadata": {},
   "source": [
    "This helps analysts gain an overall sense of the distribution, central tendency, and spread of the data. \n",
    "It's valuable because it gives a quick snapshot of the data's characteristics, allowing analysts to identify\n",
    "potential outliers, understand the scale of the variables, and make informed decisions about data preprocessing\n",
    "and model building.\n",
    "\n"
   ]
  },
  {
   "cell_type": "markdown",
   "id": "7f808da0",
   "metadata": {},
   "source": [
    "#### C"
   ]
  },
  {
   "cell_type": "code",
   "execution_count": 16,
   "id": "ed6d49f0",
   "metadata": {},
   "outputs": [
    {
     "data": {
      "text/plain": [
       "visits23                0\n",
       "ride_avg                0\n",
       "game_spend_avg          0\n",
       "avg_duration            0\n",
       "inquiries_365           0\n",
       "discounts_23            0\n",
       "merch_spend_average     0\n",
       "online_spend_average    0\n",
       "food_spend_average      0\n",
       "dtype: int64"
      ]
     },
     "execution_count": 16,
     "metadata": {},
     "output_type": "execute_result"
    }
   ],
   "source": [
    "#a\n",
    "passholder.isnull().sum()"
   ]
  },
  {
   "cell_type": "markdown",
   "id": "54de623d",
   "metadata": {},
   "source": [
    "There is no missing value in the dataset"
   ]
  },
  {
   "cell_type": "code",
   "execution_count": 19,
   "id": "1b46ca70",
   "metadata": {},
   "outputs": [
    {
     "data": {
      "text/plain": [
       "visits23                False\n",
       "ride_avg                 True\n",
       "game_spend_avg          False\n",
       "avg_duration            False\n",
       "inquiries_365           False\n",
       "discounts_23            False\n",
       "merch_spend_average     False\n",
       "online_spend_average    False\n",
       "food_spend_average      False\n",
       "dtype: bool"
      ]
     },
     "execution_count": 19,
     "metadata": {},
     "output_type": "execute_result"
    }
   ],
   "source": [
    "#b\n",
    "(passholder < 0).any()"
   ]
  },
  {
   "cell_type": "code",
   "execution_count": 26,
   "id": "085141f7",
   "metadata": {},
   "outputs": [],
   "source": [
    "passholder['ride_avg'] =passholder['ride_avg'].clip(lower=0)"
   ]
  },
  {
   "cell_type": "code",
   "execution_count": 27,
   "id": "7e23a8ad",
   "metadata": {},
   "outputs": [
    {
     "data": {
      "text/plain": [
       "visits23                False\n",
       "ride_avg                False\n",
       "game_spend_avg          False\n",
       "avg_duration            False\n",
       "inquiries_365           False\n",
       "discounts_23            False\n",
       "merch_spend_average     False\n",
       "online_spend_average    False\n",
       "food_spend_average      False\n",
       "dtype: bool"
      ]
     },
     "execution_count": 27,
     "metadata": {},
     "output_type": "execute_result"
    }
   ],
   "source": [
    "(passholder < 0).any()"
   ]
  },
  {
   "cell_type": "markdown",
   "id": "14d987cc",
   "metadata": {},
   "source": [
    "There is impossible value in ride_avg column which is less than 0. I handel it by setting all variables less than 0 to be 0."
   ]
  },
  {
   "cell_type": "code",
   "execution_count": 31,
   "id": "56fd9487",
   "metadata": {},
   "outputs": [
    {
     "data": {
      "text/plain": [
       "True"
      ]
     },
     "execution_count": 31,
     "metadata": {},
     "output_type": "execute_result"
    }
   ],
   "source": [
    "passholder['visits23'].apply(lambda x: isinstance(x, int)).all()"
   ]
  },
  {
   "cell_type": "markdown",
   "id": "75b8ecb3",
   "metadata": {},
   "source": [
    "All variables in visits23 are all integers so no impossible value in this column"
   ]
  },
  {
   "cell_type": "code",
   "execution_count": 32,
   "id": "cd498c75",
   "metadata": {},
   "outputs": [
    {
     "data": {
      "text/plain": [
       "True"
      ]
     },
     "execution_count": 32,
     "metadata": {},
     "output_type": "execute_result"
    }
   ],
   "source": [
    "passholder['inquiries_365'].apply(lambda x: isinstance(x, int)).all()"
   ]
  },
  {
   "cell_type": "markdown",
   "id": "c8ff48f0",
   "metadata": {},
   "source": [
    "Also no possible value in inquiries_365"
   ]
  },
  {
   "cell_type": "markdown",
   "id": "24d02021",
   "metadata": {},
   "source": [
    "#### D"
   ]
  },
  {
   "cell_type": "markdown",
   "id": "0d36ce47",
   "metadata": {},
   "source": [
    "a. The data needs to be standardized because for example, inquiries_365 and average_duration are apparently not in the same scale. This is crucial because k-means uses distances between data points, and variables with larger scales can dominate the clustering process."
   ]
  },
  {
   "cell_type": "code",
   "execution_count": 37,
   "id": "fecf68b1",
   "metadata": {},
   "outputs": [],
   "source": [
    "#b \n",
    "from sklearn.preprocessing import StandardScaler\n",
    "scaler = StandardScaler()\n",
    "scaled_data = scaler.fit_transform(passholder)\n",
    "passholder = pd.DataFrame(scaled_data, columns=passholder.columns)"
   ]
  },
  {
   "cell_type": "code",
   "execution_count": 38,
   "id": "3f180916",
   "metadata": {},
   "outputs": [
    {
     "data": {
      "text/html": [
       "<div>\n",
       "<style scoped>\n",
       "    .dataframe tbody tr th:only-of-type {\n",
       "        vertical-align: middle;\n",
       "    }\n",
       "\n",
       "    .dataframe tbody tr th {\n",
       "        vertical-align: top;\n",
       "    }\n",
       "\n",
       "    .dataframe thead th {\n",
       "        text-align: right;\n",
       "    }\n",
       "</style>\n",
       "<table border=\"1\" class=\"dataframe\">\n",
       "  <thead>\n",
       "    <tr style=\"text-align: right;\">\n",
       "      <th></th>\n",
       "      <th>visits23</th>\n",
       "      <th>ride_avg</th>\n",
       "      <th>game_spend_avg</th>\n",
       "      <th>avg_duration</th>\n",
       "      <th>inquiries_365</th>\n",
       "      <th>discounts_23</th>\n",
       "      <th>merch_spend_average</th>\n",
       "      <th>online_spend_average</th>\n",
       "      <th>food_spend_average</th>\n",
       "    </tr>\n",
       "  </thead>\n",
       "  <tbody>\n",
       "    <tr>\n",
       "      <th>0</th>\n",
       "      <td>-1.159614</td>\n",
       "      <td>0.382063</td>\n",
       "      <td>-1.007437</td>\n",
       "      <td>-1.043246</td>\n",
       "      <td>-0.966353</td>\n",
       "      <td>0.029720</td>\n",
       "      <td>-0.617345</td>\n",
       "      <td>0.420144</td>\n",
       "      <td>-0.567716</td>\n",
       "    </tr>\n",
       "    <tr>\n",
       "      <th>1</th>\n",
       "      <td>0.463643</td>\n",
       "      <td>0.536173</td>\n",
       "      <td>-0.411284</td>\n",
       "      <td>0.915115</td>\n",
       "      <td>1.529071</td>\n",
       "      <td>0.029720</td>\n",
       "      <td>-0.432321</td>\n",
       "      <td>1.111385</td>\n",
       "      <td>-0.535439</td>\n",
       "    </tr>\n",
       "    <tr>\n",
       "      <th>2</th>\n",
       "      <td>0.463643</td>\n",
       "      <td>-0.080265</td>\n",
       "      <td>-0.783880</td>\n",
       "      <td>1.415269</td>\n",
       "      <td>0.031817</td>\n",
       "      <td>-1.130090</td>\n",
       "      <td>-0.709858</td>\n",
       "      <td>0.592955</td>\n",
       "      <td>-0.470884</td>\n",
       "    </tr>\n",
       "    <tr>\n",
       "      <th>3</th>\n",
       "      <td>-1.971242</td>\n",
       "      <td>-0.285745</td>\n",
       "      <td>1.948490</td>\n",
       "      <td>0.118210</td>\n",
       "      <td>-0.467268</td>\n",
       "      <td>3.509151</td>\n",
       "      <td>-0.802370</td>\n",
       "      <td>-1.135146</td>\n",
       "      <td>1.013868</td>\n",
       "    </tr>\n",
       "    <tr>\n",
       "      <th>4</th>\n",
       "      <td>-1.159614</td>\n",
       "      <td>-1.210402</td>\n",
       "      <td>-0.634841</td>\n",
       "      <td>-1.505078</td>\n",
       "      <td>-0.467268</td>\n",
       "      <td>-1.709996</td>\n",
       "      <td>-0.802370</td>\n",
       "      <td>-0.703121</td>\n",
       "      <td>-0.987320</td>\n",
       "    </tr>\n",
       "  </tbody>\n",
       "</table>\n",
       "</div>"
      ],
      "text/plain": [
       "   visits23  ride_avg  game_spend_avg  avg_duration  inquiries_365  \\\n",
       "0 -1.159614  0.382063       -1.007437     -1.043246      -0.966353   \n",
       "1  0.463643  0.536173       -0.411284      0.915115       1.529071   \n",
       "2  0.463643 -0.080265       -0.783880      1.415269       0.031817   \n",
       "3 -1.971242 -0.285745        1.948490      0.118210      -0.467268   \n",
       "4 -1.159614 -1.210402       -0.634841     -1.505078      -0.467268   \n",
       "\n",
       "   discounts_23  merch_spend_average  online_spend_average  food_spend_average  \n",
       "0      0.029720            -0.617345              0.420144           -0.567716  \n",
       "1      0.029720            -0.432321              1.111385           -0.535439  \n",
       "2     -1.130090            -0.709858              0.592955           -0.470884  \n",
       "3      3.509151            -0.802370             -1.135146            1.013868  \n",
       "4     -1.709996            -0.802370             -0.703121           -0.987320  "
      ]
     },
     "execution_count": 38,
     "metadata": {},
     "output_type": "execute_result"
    }
   ],
   "source": [
    "passholder.head()"
   ]
  },
  {
   "cell_type": "markdown",
   "id": "ed7a1d12",
   "metadata": {},
   "source": [
    "#### E"
   ]
  },
  {
   "cell_type": "code",
   "execution_count": 63,
   "id": "00c554e3",
   "metadata": {},
   "outputs": [],
   "source": [
    "selected_variables = ['game_spend_avg', 'merch_spend_average', 'online_spend_average', \n",
    "                      'food_spend_average','discounts_23']\n",
    "passholder_selected = passholder[selected_variables]"
   ]
  },
  {
   "cell_type": "markdown",
   "id": "b619eed9",
   "metadata": {},
   "source": [
    "These variables collectively provide information about passholder spending habits, which could be a significant factor in clustering them."
   ]
  },
  {
   "cell_type": "markdown",
   "id": "3c107398",
   "metadata": {},
   "source": [
    "#### F"
   ]
  },
  {
   "cell_type": "code",
   "execution_count": 60,
   "id": "c36282fe",
   "metadata": {},
   "outputs": [
    {
     "data": {
      "image/png": "[encoded data removed]",
      "text/plain": [
       "<Figure size 640x480 with 1 Axes>"
      ]
     },
     "metadata": {},
     "output_type": "display_data"
    }
   ],
   "source": [
    "import matplotlib.pyplot as plt\n",
    "from sklearn.cluster import KMeans\n",
    "\n",
    "inertia = []\n",
    "for i in range(1, 11):\n",
    "    kmeans = KMeans(n_clusters=i, random_state=654,n_init=10).fit(passholder_selected)\n",
    "    inertia.append(kmeans.inertia_)\n",
    "\n",
    "plt.plot(range(1, 11), inertia, marker='x')\n",
    "plt.xlabel('Number of clusters')\n",
    "plt.ylabel('Inertia')\n",
    "plt.title('Elbow Chart')\n",
    "plt.show()"
   ]
  },
  {
   "cell_type": "markdown",
   "id": "d8b1b800",
   "metadata": {},
   "source": [
    "#### G\n",
    "I want to use 6 clusters."
   ]
  },
  {
   "cell_type": "markdown",
   "id": "a8cbf377",
   "metadata": {},
   "source": [
    "#### H"
   ]
  },
  {
   "cell_type": "code",
   "execution_count": 53,
   "id": "68b41220",
   "metadata": {},
   "outputs": [],
   "source": [
    "kmeans = KMeans(n_clusters=6, random_state=654,n_init=10)\n",
    "clusters = kmeans.fit_predict(passholder_selected)"
   ]
  },
  {
   "cell_type": "markdown",
   "id": "5f91aca2",
   "metadata": {},
   "source": [
    "#### I"
   ]
  },
  {
   "cell_type": "code",
   "execution_count": 64,
   "id": "bcb819ee",
   "metadata": {},
   "outputs": [
    {
     "data": {
      "text/html": [
       "<div>\n",
       "<style scoped>\n",
       "    .dataframe tbody tr th:only-of-type {\n",
       "        vertical-align: middle;\n",
       "    }\n",
       "\n",
       "    .dataframe tbody tr th {\n",
       "        vertical-align: top;\n",
       "    }\n",
       "\n",
       "    .dataframe thead tr th {\n",
       "        text-align: left;\n",
       "    }\n",
       "\n",
       "    .dataframe thead tr:last-of-type th {\n",
       "        text-align: right;\n",
       "    }\n",
       "</style>\n",
       "<table border=\"1\" class=\"dataframe\">\n",
       "  <thead>\n",
       "    <tr>\n",
       "      <th></th>\n",
       "      <th colspan=\"8\" halign=\"left\">game_spend_avg</th>\n",
       "      <th colspan=\"2\" halign=\"left\">merch_spend_average</th>\n",
       "      <th>...</th>\n",
       "      <th colspan=\"2\" halign=\"left\">food_spend_average</th>\n",
       "      <th colspan=\"8\" halign=\"left\">discounts_23</th>\n",
       "    </tr>\n",
       "    <tr>\n",
       "      <th></th>\n",
       "      <th>count</th>\n",
       "      <th>mean</th>\n",
       "      <th>std</th>\n",
       "      <th>min</th>\n",
       "      <th>25%</th>\n",
       "      <th>50%</th>\n",
       "      <th>75%</th>\n",
       "      <th>max</th>\n",
       "      <th>count</th>\n",
       "      <th>mean</th>\n",
       "      <th>...</th>\n",
       "      <th>75%</th>\n",
       "      <th>max</th>\n",
       "      <th>count</th>\n",
       "      <th>mean</th>\n",
       "      <th>std</th>\n",
       "      <th>min</th>\n",
       "      <th>25%</th>\n",
       "      <th>50%</th>\n",
       "      <th>75%</th>\n",
       "      <th>max</th>\n",
       "    </tr>\n",
       "    <tr>\n",
       "      <th>Cluster</th>\n",
       "      <th></th>\n",
       "      <th></th>\n",
       "      <th></th>\n",
       "      <th></th>\n",
       "      <th></th>\n",
       "      <th></th>\n",
       "      <th></th>\n",
       "      <th></th>\n",
       "      <th></th>\n",
       "      <th></th>\n",
       "      <th></th>\n",
       "      <th></th>\n",
       "      <th></th>\n",
       "      <th></th>\n",
       "      <th></th>\n",
       "      <th></th>\n",
       "      <th></th>\n",
       "      <th></th>\n",
       "      <th></th>\n",
       "      <th></th>\n",
       "      <th></th>\n",
       "    </tr>\n",
       "  </thead>\n",
       "  <tbody>\n",
       "    <tr>\n",
       "      <th>0</th>\n",
       "      <td>131.0</td>\n",
       "      <td>-0.467221</td>\n",
       "      <td>0.785068</td>\n",
       "      <td>-2.746218</td>\n",
       "      <td>-1.007437</td>\n",
       "      <td>-0.436123</td>\n",
       "      <td>0.160030</td>\n",
       "      <td>0.979741</td>\n",
       "      <td>131.0</td>\n",
       "      <td>-0.889232</td>\n",
       "      <td>...</td>\n",
       "      <td>0.110106</td>\n",
       "      <td>1.885353</td>\n",
       "      <td>131.0</td>\n",
       "      <td>-0.191618</td>\n",
       "      <td>0.706431</td>\n",
       "      <td>-1.709996</td>\n",
       "      <td>-0.550185</td>\n",
       "      <td>0.029720</td>\n",
       "      <td>0.609625</td>\n",
       "      <td>1.769436</td>\n",
       "    </tr>\n",
       "    <tr>\n",
       "      <th>1</th>\n",
       "      <td>132.0</td>\n",
       "      <td>-0.914665</td>\n",
       "      <td>0.727064</td>\n",
       "      <td>-3.193333</td>\n",
       "      <td>-1.237205</td>\n",
       "      <td>-0.833559</td>\n",
       "      <td>-0.429914</td>\n",
       "      <td>0.582305</td>\n",
       "      <td>132.0</td>\n",
       "      <td>-0.214707</td>\n",
       "      <td>...</td>\n",
       "      <td>0.303769</td>\n",
       "      <td>1.788521</td>\n",
       "      <td>132.0</td>\n",
       "      <td>-0.392029</td>\n",
       "      <td>0.698724</td>\n",
       "      <td>-1.709996</td>\n",
       "      <td>-1.130090</td>\n",
       "      <td>-0.550185</td>\n",
       "      <td>0.029720</td>\n",
       "      <td>1.189531</td>\n",
       "    </tr>\n",
       "    <tr>\n",
       "      <th>2</th>\n",
       "      <td>152.0</td>\n",
       "      <td>1.084983</td>\n",
       "      <td>0.690724</td>\n",
       "      <td>-0.510643</td>\n",
       "      <td>0.607145</td>\n",
       "      <td>1.017000</td>\n",
       "      <td>1.482745</td>\n",
       "      <td>3.513393</td>\n",
       "      <td>152.0</td>\n",
       "      <td>-0.472186</td>\n",
       "      <td>...</td>\n",
       "      <td>0.828274</td>\n",
       "      <td>2.853669</td>\n",
       "      <td>152.0</td>\n",
       "      <td>-0.470067</td>\n",
       "      <td>0.654080</td>\n",
       "      <td>-1.709996</td>\n",
       "      <td>-1.130090</td>\n",
       "      <td>-0.550185</td>\n",
       "      <td>0.029720</td>\n",
       "      <td>1.769436</td>\n",
       "    </tr>\n",
       "    <tr>\n",
       "      <th>3</th>\n",
       "      <td>133.0</td>\n",
       "      <td>0.370327</td>\n",
       "      <td>0.764790</td>\n",
       "      <td>-1.653270</td>\n",
       "      <td>-0.088367</td>\n",
       "      <td>0.309068</td>\n",
       "      <td>0.855542</td>\n",
       "      <td>2.172048</td>\n",
       "      <td>133.0</td>\n",
       "      <td>0.651045</td>\n",
       "      <td>...</td>\n",
       "      <td>-0.567716</td>\n",
       "      <td>0.013274</td>\n",
       "      <td>133.0</td>\n",
       "      <td>0.073322</td>\n",
       "      <td>0.777448</td>\n",
       "      <td>-1.709996</td>\n",
       "      <td>-0.550185</td>\n",
       "      <td>0.029720</td>\n",
       "      <td>0.609625</td>\n",
       "      <td>1.769436</td>\n",
       "    </tr>\n",
       "    <tr>\n",
       "      <th>4</th>\n",
       "      <td>136.0</td>\n",
       "      <td>-0.094395</td>\n",
       "      <td>0.749055</td>\n",
       "      <td>-1.901667</td>\n",
       "      <td>-0.566532</td>\n",
       "      <td>-0.113207</td>\n",
       "      <td>0.396007</td>\n",
       "      <td>1.700093</td>\n",
       "      <td>136.0</td>\n",
       "      <td>1.090389</td>\n",
       "      <td>...</td>\n",
       "      <td>1.272086</td>\n",
       "      <td>3.176442</td>\n",
       "      <td>136.0</td>\n",
       "      <td>-0.388153</td>\n",
       "      <td>0.686847</td>\n",
       "      <td>-1.709996</td>\n",
       "      <td>-1.130090</td>\n",
       "      <td>-0.550185</td>\n",
       "      <td>0.029720</td>\n",
       "      <td>1.189531</td>\n",
       "    </tr>\n",
       "    <tr>\n",
       "      <th>5</th>\n",
       "      <td>116.0</td>\n",
       "      <td>-0.167169</td>\n",
       "      <td>0.859608</td>\n",
       "      <td>-2.795897</td>\n",
       "      <td>-0.740410</td>\n",
       "      <td>-0.138047</td>\n",
       "      <td>0.507786</td>\n",
       "      <td>1.948490</td>\n",
       "      <td>116.0</td>\n",
       "      <td>-0.157576</td>\n",
       "      <td>...</td>\n",
       "      <td>1.110700</td>\n",
       "      <td>3.273273</td>\n",
       "      <td>116.0</td>\n",
       "      <td>1.649455</td>\n",
       "      <td>0.766732</td>\n",
       "      <td>0.609625</td>\n",
       "      <td>1.189531</td>\n",
       "      <td>1.189531</td>\n",
       "      <td>1.769436</td>\n",
       "      <td>4.668962</td>\n",
       "    </tr>\n",
       "  </tbody>\n",
       "</table>\n",
       "<p>6 rows × 40 columns</p>\n",
       "</div>"
      ],
      "text/plain": [
       "        game_spend_avg                                                    \\\n",
       "                 count      mean       std       min       25%       50%   \n",
       "Cluster                                                                    \n",
       "0                131.0 -0.467221  0.785068 -2.746218 -1.007437 -0.436123   \n",
       "1                132.0 -0.914665  0.727064 -3.193333 -1.237205 -0.833559   \n",
       "2                152.0  1.084983  0.690724 -0.510643  0.607145  1.017000   \n",
       "3                133.0  0.370327  0.764790 -1.653270 -0.088367  0.309068   \n",
       "4                136.0 -0.094395  0.749055 -1.901667 -0.566532 -0.113207   \n",
       "5                116.0 -0.167169  0.859608 -2.795897 -0.740410 -0.138047   \n",
       "\n",
       "                            merch_spend_average            ...  \\\n",
       "              75%       max               count      mean  ...   \n",
       "Cluster                                                    ...   \n",
       "0        0.160030  0.979741               131.0 -0.889232  ...   \n",
       "1       -0.429914  0.582305               132.0 -0.214707  ...   \n",
       "2        1.482745  3.513393               152.0 -0.472186  ...   \n",
       "3        0.855542  2.172048               133.0  0.651045  ...   \n",
       "4        0.396007  1.700093               136.0  1.090389  ...   \n",
       "5        0.507786  1.948490               116.0 -0.157576  ...   \n",
       "\n",
       "        food_spend_average           discounts_23                      \\\n",
       "                       75%       max        count      mean       std   \n",
       "Cluster                                                                 \n",
       "0                 0.110106  1.885353        131.0 -0.191618  0.706431   \n",
       "1                 0.303769  1.788521        132.0 -0.392029  0.698724   \n",
       "2                 0.828274  2.853669        152.0 -0.470067  0.654080   \n",
       "3                -0.567716  0.013274        133.0  0.073322  0.777448   \n",
       "4                 1.272086  3.176442        136.0 -0.388153  0.686847   \n",
       "5                 1.110700  3.273273        116.0  1.649455  0.766732   \n",
       "\n",
       "                                                           \n",
       "              min       25%       50%       75%       max  \n",
       "Cluster                                                    \n",
       "0       -1.709996 -0.550185  0.029720  0.609625  1.769436  \n",
       "1       -1.709996 -1.130090 -0.550185  0.029720  1.189531  \n",
       "2       -1.709996 -1.130090 -0.550185  0.029720  1.769436  \n",
       "3       -1.709996 -0.550185  0.029720  0.609625  1.769436  \n",
       "4       -1.709996 -1.130090 -0.550185  0.029720  1.189531  \n",
       "5        0.609625  1.189531  1.189531  1.769436  4.668962  \n",
       "\n",
       "[6 rows x 40 columns]"
      ]
     },
     "execution_count": 64,
     "metadata": {},
     "output_type": "execute_result"
    }
   ],
   "source": [
    "passholder_model = passholder_selected.copy()\n",
    "passholder_model.loc[:, 'Cluster'] = clusters\n",
    "passholder_model.groupby('Cluster').describe()"
   ]
  },
  {
   "cell_type": "markdown",
   "id": "bc5e721b",
   "metadata": {},
   "source": [
    "#### J"
   ]
  },
  {
   "cell_type": "code",
   "execution_count": 83,
   "id": "384a0fce",
   "metadata": {},
   "outputs": [
    {
     "data": {
      "image/png": "[encoded data removed]",
      "text/plain": [
       "<Figure size 1000x600 with 1 Axes>"
      ]
     },
     "metadata": {},
     "output_type": "display_data"
    }
   ],
   "source": [
    "import seaborn as sns\n",
    "\n",
    "plt.figure(figsize=(10, 6))\n",
    "sns.boxplot(x='Cluster', y='game_spend_avg', data=passholder_model)\n",
    "plt.title('Game Spend Average by Cluster')\n",
    "plt.show()"
   ]
  },
  {
   "cell_type": "markdown",
   "id": "02882d40",
   "metadata": {},
   "source": [
    "This box plot shows the features like means, 1st and 3rd quartile, max and min value of variable \"game_spend_average\" in different clusters."
   ]
  },
  {
   "cell_type": "code",
   "execution_count": 70,
   "id": "c72b70dd",
   "metadata": {},
   "outputs": [
    {
     "data": {
      "image/png": "[encoded data removed]",
      "text/plain": [
       "<Figure size 1000x600 with 1 Axes>"
      ]
     },
     "metadata": {},
     "output_type": "display_data"
    }
   ],
   "source": [
    "plt.figure(figsize=(10, 6))\n",
    "sns.boxplot(x='Cluster', y='online_spend_average', data=passholder_model)\n",
    "plt.title('Online Spend Average by Cluster')\n",
    "plt.show()\n"
   ]
  },
  {
   "cell_type": "markdown",
   "id": "0530a90f",
   "metadata": {},
   "source": [
    "This box plot shows the features like means, 1st and 3rd quartile, max and min value of variable \"online_spend_average\" in different clusters."
   ]
  },
  {
   "cell_type": "code",
   "execution_count": 85,
   "id": "0517e7ea",
   "metadata": {},
   "outputs": [
    {
     "data": {
      "image/png": "[encoded data removed]",
      "text/plain": [
       "<Figure size 1000x600 with 1 Axes>"
      ]
     },
     "metadata": {},
     "output_type": "display_data"
    }
   ],
   "source": [
    "plt.figure(figsize=(10, 6))\n",
    "sns.boxplot(x='Cluster', y='discounts_23', data=passholder_model)\n",
    "plt.title('Discounts redeemed by Cluster')\n",
    "plt.show()\n"
   ]
  },
  {
   "cell_type": "markdown",
   "id": "a270112e",
   "metadata": {},
   "source": [
    "This box plot shows the features like means, 1st and 3rd quartile, max and min value of variable \"discounts_23\" in different clusters."
   ]
  },
  {
   "cell_type": "code",
   "execution_count": 82,
   "id": "37821f3f",
   "metadata": {
    "scrolled": false
   },
   "outputs": [
    {
     "data": {
      "image/png": "[encoded data removed]",
      "text/plain": [
       "<Figure size 1000x600 with 1 Axes>"
      ]
     },
     "metadata": {},
     "output_type": "display_data"
    }
   ],
   "source": [
    "plt.figure(figsize=(10, 6))\n",
    "sns.boxplot(x='Cluster', y='merch_spend_average', data=passholder_model)\n",
    "plt.title('Merch Spend Average by Cluster')\n",
    "plt.show()"
   ]
  },
  {
   "cell_type": "markdown",
   "id": "2e7ef2ff",
   "metadata": {},
   "source": [
    "The box plot shows the features like means, 1st and 3rd quartile, max and min value of variable \"merch_spend_average\" in different clusters."
   ]
  },
  {
   "cell_type": "code",
   "execution_count": 87,
   "id": "bc9ee9d9",
   "metadata": {
    "scrolled": false
   },
   "outputs": [
    {
     "data": {
      "image/png": "[encoded data removed]",
      "text/plain": [
       "<Figure size 1000x600 with 1 Axes>"
      ]
     },
     "metadata": {},
     "output_type": "display_data"
    }
   ],
   "source": [
    "plt.figure(figsize=(10, 6))\n",
    "sns.boxplot(x='Cluster', y='food_spend_average', data=passholder_model)\n",
    "plt.title('Food Spend Average by Cluster')\n",
    "plt.show()"
   ]
  },
  {
   "cell_type": "markdown",
   "id": "a09524fe",
   "metadata": {},
   "source": [
    "The box plot shows the features like means, 1st and 3rd quartile, max and min value of variable \"food_spend_average\" in different clusters."
   ]
  },
  {
   "cell_type": "markdown",
   "id": "a98d6ea2",
   "metadata": {},
   "source": [
    "#### K"
   ]
  },
  {
   "cell_type": "markdown",
   "id": "bcde7049",
   "metadata": {},
   "source": [
    "Cluster0 is online shoppers, cluster1 is low game and online spend shoppers, cluster2 is game shoppers, cluster3 is low food spend buyers, cluster4 is merchandise shoppers, cluster5 is discount shoppers."
   ]
  },
  {
   "cell_type": "markdown",
   "id": "529f6da2",
   "metadata": {},
   "source": [
    "#### L"
   ]
  },
  {
   "cell_type": "markdown",
   "id": "20b339ee",
   "metadata": {},
   "source": [
    "In each kinds of perchases, Lobster Land should focus more on the group that have the higher spend. For example for cluster0 online shoppers, Lobster Land should send personalized online offers or discounts for online merchandise through targeted email campaigns because they spend more on online merchandises. And cluster3 is the group that Lobster Land should pay least engagement on advertising its food product because they have far less spend on food than other groups."
   ]
  },
  {
   "cell_type": "markdown",
   "id": "84d5c378",
   "metadata": {},
   "source": [
    "### Part 2"
   ]
  },
  {
   "cell_type": "markdown",
   "id": "f32932fc",
   "metadata": {},
   "source": [
    "#### A"
   ]
  },
  {
   "cell_type": "code",
   "execution_count": 95,
   "id": "5bcc15d0",
   "metadata": {},
   "outputs": [],
   "source": [
    "new_gold = pd.read_csv(\"/Users/xinhuaijin/Desktop/assignments/new_gold.csv\")"
   ]
  },
  {
   "cell_type": "markdown",
   "id": "33923172",
   "metadata": {},
   "source": [
    "#### B\n",
    "Numeric Variables:\n",
    "\n",
    "bundleID\n",
    "coaster_sim\n",
    "jukebox_run\n",
    "avg_rating\n",
    "\n",
    "Categorical Variables:\n",
    "\n",
    "music_physical\n",
    "sports_physical\n",
    "retro_arcade\n",
    "pinball\n",
    "tough_skill\n",
    "crane_prize"
   ]
  },
  {
   "cell_type": "markdown",
   "id": "0ee84b17",
   "metadata": {},
   "source": [
    "### C"
   ]
  },
  {
   "cell_type": "code",
   "execution_count": 98,
   "id": "05fa2f7e",
   "metadata": {},
   "outputs": [
    {
     "data": {
      "text/html": [
       "<div>\n",
       "<style scoped>\n",
       "    .dataframe tbody tr th:only-of-type {\n",
       "        vertical-align: middle;\n",
       "    }\n",
       "\n",
       "    .dataframe tbody tr th {\n",
       "        vertical-align: top;\n",
       "    }\n",
       "\n",
       "    .dataframe thead th {\n",
       "        text-align: right;\n",
       "    }\n",
       "</style>\n",
       "<table border=\"1\" class=\"dataframe\">\n",
       "  <thead>\n",
       "    <tr style=\"text-align: right;\">\n",
       "      <th></th>\n",
       "      <th>coaster_sim</th>\n",
       "      <th>jukebox_run</th>\n",
       "      <th>avg_rating</th>\n",
       "      <th>music_physical_Guitar Hero</th>\n",
       "      <th>music_physical_MaiMai Orange</th>\n",
       "      <th>sports_physical_Connect Four Hoops</th>\n",
       "      <th>sports_physical_QB Toss Challenge</th>\n",
       "      <th>retro_arcade_Mortal Kombat</th>\n",
       "      <th>retro_arcade_Ninja Turtles</th>\n",
       "      <th>retro_arcade_Simpsons</th>\n",
       "      <th>pinball_Indiana Jones</th>\n",
       "      <th>pinball_Jurassic Park</th>\n",
       "      <th>pinball_Monopoly</th>\n",
       "      <th>tough_skill_Reel Big Fish</th>\n",
       "      <th>tough_skill_Shape_Stack</th>\n",
       "      <th>crane_prizes_stuffed animals</th>\n",
       "      <th>crane_prizes_ticket bundles</th>\n",
       "    </tr>\n",
       "  </thead>\n",
       "  <tbody>\n",
       "    <tr>\n",
       "      <th>0</th>\n",
       "      <td>60</td>\n",
       "      <td>1</td>\n",
       "      <td>5.29</td>\n",
       "      <td>1</td>\n",
       "      <td>0</td>\n",
       "      <td>1</td>\n",
       "      <td>0</td>\n",
       "      <td>1</td>\n",
       "      <td>0</td>\n",
       "      <td>0</td>\n",
       "      <td>0</td>\n",
       "      <td>1</td>\n",
       "      <td>0</td>\n",
       "      <td>0</td>\n",
       "      <td>1</td>\n",
       "      <td>1</td>\n",
       "      <td>0</td>\n",
       "    </tr>\n",
       "    <tr>\n",
       "      <th>1</th>\n",
       "      <td>60</td>\n",
       "      <td>1</td>\n",
       "      <td>4.20</td>\n",
       "      <td>1</td>\n",
       "      <td>0</td>\n",
       "      <td>1</td>\n",
       "      <td>0</td>\n",
       "      <td>1</td>\n",
       "      <td>0</td>\n",
       "      <td>0</td>\n",
       "      <td>0</td>\n",
       "      <td>1</td>\n",
       "      <td>0</td>\n",
       "      <td>0</td>\n",
       "      <td>1</td>\n",
       "      <td>0</td>\n",
       "      <td>1</td>\n",
       "    </tr>\n",
       "    <tr>\n",
       "      <th>2</th>\n",
       "      <td>60</td>\n",
       "      <td>1</td>\n",
       "      <td>3.85</td>\n",
       "      <td>1</td>\n",
       "      <td>0</td>\n",
       "      <td>1</td>\n",
       "      <td>0</td>\n",
       "      <td>1</td>\n",
       "      <td>0</td>\n",
       "      <td>0</td>\n",
       "      <td>0</td>\n",
       "      <td>1</td>\n",
       "      <td>0</td>\n",
       "      <td>0</td>\n",
       "      <td>1</td>\n",
       "      <td>0</td>\n",
       "      <td>0</td>\n",
       "    </tr>\n",
       "    <tr>\n",
       "      <th>3</th>\n",
       "      <td>60</td>\n",
       "      <td>2</td>\n",
       "      <td>6.35</td>\n",
       "      <td>1</td>\n",
       "      <td>0</td>\n",
       "      <td>1</td>\n",
       "      <td>0</td>\n",
       "      <td>1</td>\n",
       "      <td>0</td>\n",
       "      <td>0</td>\n",
       "      <td>0</td>\n",
       "      <td>1</td>\n",
       "      <td>0</td>\n",
       "      <td>0</td>\n",
       "      <td>1</td>\n",
       "      <td>1</td>\n",
       "      <td>0</td>\n",
       "    </tr>\n",
       "    <tr>\n",
       "      <th>4</th>\n",
       "      <td>60</td>\n",
       "      <td>2</td>\n",
       "      <td>5.87</td>\n",
       "      <td>1</td>\n",
       "      <td>0</td>\n",
       "      <td>1</td>\n",
       "      <td>0</td>\n",
       "      <td>1</td>\n",
       "      <td>0</td>\n",
       "      <td>0</td>\n",
       "      <td>0</td>\n",
       "      <td>1</td>\n",
       "      <td>0</td>\n",
       "      <td>0</td>\n",
       "      <td>1</td>\n",
       "      <td>0</td>\n",
       "      <td>1</td>\n",
       "    </tr>\n",
       "  </tbody>\n",
       "</table>\n",
       "</div>"
      ],
      "text/plain": [
       "   coaster_sim  jukebox_run  avg_rating  music_physical_Guitar Hero  \\\n",
       "0           60            1        5.29                           1   \n",
       "1           60            1        4.20                           1   \n",
       "2           60            1        3.85                           1   \n",
       "3           60            2        6.35                           1   \n",
       "4           60            2        5.87                           1   \n",
       "\n",
       "   music_physical_MaiMai Orange  sports_physical_Connect Four Hoops  \\\n",
       "0                             0                                   1   \n",
       "1                             0                                   1   \n",
       "2                             0                                   1   \n",
       "3                             0                                   1   \n",
       "4                             0                                   1   \n",
       "\n",
       "   sports_physical_QB Toss Challenge  retro_arcade_Mortal Kombat  \\\n",
       "0                                  0                           1   \n",
       "1                                  0                           1   \n",
       "2                                  0                           1   \n",
       "3                                  0                           1   \n",
       "4                                  0                           1   \n",
       "\n",
       "   retro_arcade_Ninja Turtles  retro_arcade_Simpsons  pinball_Indiana Jones  \\\n",
       "0                           0                      0                      0   \n",
       "1                           0                      0                      0   \n",
       "2                           0                      0                      0   \n",
       "3                           0                      0                      0   \n",
       "4                           0                      0                      0   \n",
       "\n",
       "   pinball_Jurassic Park  pinball_Monopoly  tough_skill_Reel Big Fish  \\\n",
       "0                      1                 0                          0   \n",
       "1                      1                 0                          0   \n",
       "2                      1                 0                          0   \n",
       "3                      1                 0                          0   \n",
       "4                      1                 0                          0   \n",
       "\n",
       "   tough_skill_Shape_Stack  crane_prizes_stuffed animals  \\\n",
       "0                        1                             1   \n",
       "1                        1                             0   \n",
       "2                        1                             0   \n",
       "3                        1                             1   \n",
       "4                        1                             0   \n",
       "\n",
       "   crane_prizes_ticket bundles  \n",
       "0                            0  \n",
       "1                            1  \n",
       "2                            0  \n",
       "3                            0  \n",
       "4                            1  "
      ]
     },
     "execution_count": 98,
     "metadata": {},
     "output_type": "execute_result"
    }
   ],
   "source": [
    "new_gold.drop(columns=['bundleID'], inplace=True)\n",
    "new_gold = pd.get_dummies(new_gold, drop_first=True)\n",
    "new_gold.head()"
   ]
  },
  {
   "cell_type": "markdown",
   "id": "e172d51d",
   "metadata": {},
   "source": [
    "The numeric input should be dummify because we would be imply that there is continuous range of options between the values which is incorrect."
   ]
  },
  {
   "cell_type": "markdown",
   "id": "3c94b84c",
   "metadata": {},
   "source": [
    "### D"
   ]
  },
  {
   "cell_type": "code",
   "execution_count": 100,
   "id": "dc93e174",
   "metadata": {},
   "outputs": [],
   "source": [
    "import statsmodels.api as sm\n",
    "\n",
    "X = new_gold.drop('avg_rating', axis=1)  # Features (inputs)\n",
    "y = new_gold['avg_rating']  # Target variable (output)\n",
    "\n",
    "# Add a constant term to the features (for the intercept)\n",
    "X = sm.add_constant(X)\n",
    "\n",
    "# Fit the linear model\n",
    "model = sm.OLS(y, X).fit()"
   ]
  },
  {
   "cell_type": "markdown",
   "id": "0f9192a0",
   "metadata": {},
   "source": [
    "#### E"
   ]
  },
  {
   "cell_type": "code",
   "execution_count": 101,
   "id": "1e30709f",
   "metadata": {},
   "outputs": [
    {
     "name": "stdout",
     "output_type": "stream",
     "text": [
      "const                                 3.587935\n",
      "coaster_sim                           0.000862\n",
      "jukebox_run                           0.813188\n",
      "music_physical_Guitar Hero           -0.107526\n",
      "music_physical_MaiMai Orange         -0.417043\n",
      "sports_physical_Connect Four Hoops    1.038414\n",
      "sports_physical_QB Toss Challenge    -0.369090\n",
      "retro_arcade_Mortal Kombat           -0.521406\n",
      "retro_arcade_Ninja Turtles            0.145480\n",
      "retro_arcade_Simpsons                 0.261352\n",
      "pinball_Indiana Jones                -0.075127\n",
      "pinball_Jurassic Park                -0.171096\n",
      "pinball_Monopoly                      0.201017\n",
      "tough_skill_Reel Big Fish            -0.009714\n",
      "tough_skill_Shape_Stack              -0.899864\n",
      "crane_prizes_stuffed animals         -0.030752\n",
      "crane_prizes_ticket bundles           0.381748\n",
      "dtype: float64\n"
     ]
    }
   ],
   "source": [
    "coefficients = model.params\n",
    "print(coefficients)"
   ]
  },
  {
   "cell_type": "markdown",
   "id": "4e19d70b",
   "metadata": {},
   "source": [
    "#### F"
   ]
  },
  {
   "cell_type": "markdown",
   "id": "af5a9ee6",
   "metadata": {},
   "source": [
    "\n",
    "The linear model provides valuable insights into the factors influencing average ratings for different bundles at Lobster Land. From the coefficients, we can see that certain features have a notable impact on ratings. For instance, the presence of the Connect Four Hoops in the sports section is associated with a higher average rating, indicating its popularity among respondents. On the other hand, the Shape Stack in the tough skill section has a negative coefficient, suggesting it might not be as well-received.\n",
    "\n",
    "However, it's crucial to consider that popularity isn't the sole factor to base decisions on. It's also important to balance popularity with operational feasibility, cost-effectiveness, and the overall park experience. For example, while certain features may be highly rated, they may require substantial resources or maintenance.\n",
    "\n",
    "Furthermore, Lobster Land may consider conducting targeted surveys or focus groups to gain deeper insights into visitor preferences. This qualitative data, combined with the model's findings, can inform a comprehensive strategy for optimizing bundles and attractions. Remember, the goal is not only to offer the most popular options but to curate an experience that aligns with Lobster Land's brand identity and enhances customer satisfaction."
   ]
  },
  {
   "cell_type": "markdown",
   "id": "9c62d0ff",
   "metadata": {},
   "source": [
    "## Part3"
   ]
  },
  {
   "cell_type": "markdown",
   "id": "7cd0beb6",
   "metadata": {},
   "source": [
    "#### A"
   ]
  },
  {
   "cell_type": "code",
   "execution_count": 102,
   "id": "a5deeca9",
   "metadata": {},
   "outputs": [
    {
     "data": {
      "text/html": [
       "<img src=\"https://study.com/cimages/multimages/16/burgerad15179945781952220614.png\"/>"
      ],
      "text/plain": [
       "<IPython.core.display.Image object>"
      ]
     },
     "metadata": {},
     "output_type": "display_data"
    }
   ],
   "source": [
    "from IPython.display import Image, display\n",
    "\n",
    "display(Image(url='https://study.com/cimages/multimages/16/burgerad15179945781952220614.png'))"
   ]
  },
  {
   "cell_type": "markdown",
   "id": "da3895cf",
   "metadata": {},
   "source": [
    "#### B"
   ]
  },
  {
   "cell_type": "markdown",
   "id": "f582e7b8",
   "metadata": {},
   "source": [
    "I think the consumer segment is people who love fast food because it is an advertisement about burger boudle. The types included in the segments might be beef lovers, chicken lovers, fries lovers, soda lovers and so on. Also the consumer segment can also be people who with car, because the advertisement enphasizes \"Drive Thru\". If the consumer segment is people who love fast food, I am one of them. The advertisement is effective which target is straight, that is people who love fast food, have car and love discount."
   ]
  }
 ],
 "metadata": {
  "kernelspec": {
   "display_name": "Python 3 (ipykernel)",
   "language": "python",
   "name": "python3"
  },
  "language_info": {
   "codemirror_mode": {
    "name": "ipython",
    "version": 3
   },
   "file_extension": ".py",
   "mimetype": "text/x-python",
   "name": "python",
   "nbconvert_exporter": "python",
   "pygments_lexer": "ipython3",
   "version": "3.11.4"
  }
 },
 "nbformat": 4,
 "nbformat_minor": 5
}
